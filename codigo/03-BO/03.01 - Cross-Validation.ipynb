{
 "cells": [
  {
   "cell_type": "code",
   "execution_count": 1,
   "metadata": {
    "papermill": {
     "duration": 1.629423,
     "end_time": "2020-09-04T19:00:49.168162",
     "exception": false,
     "start_time": "2020-09-04T19:00:47.538739",
     "status": "completed"
    },
    "tags": []
   },
   "outputs": [
    {
     "data": {
      "text/html": [
       "<table class=\"dataframe\">\n",
       "<caption>A matrix: 2 × 6 of type dbl</caption>\n",
       "<thead>\n",
       "\t<tr><th></th><th scope=col>used</th><th scope=col>(Mb)</th><th scope=col>gc trigger</th><th scope=col>(Mb)</th><th scope=col>max used</th><th scope=col>(Mb)</th></tr>\n",
       "</thead>\n",
       "<tbody>\n",
       "\t<tr><th scope=row>Ncells</th><td>492161</td><td>26.3</td><td>1085284</td><td>58</td><td> 641780</td><td>34.3</td></tr>\n",
       "\t<tr><th scope=row>Vcells</th><td>941099</td><td> 7.2</td><td>8388608</td><td>64</td><td>1753993</td><td>13.4</td></tr>\n",
       "</tbody>\n",
       "</table>\n"
      ],
      "text/latex": [
       "A matrix: 2 × 6 of type dbl\n",
       "\\begin{tabular}{r|llllll}\n",
       "  & used & (Mb) & gc trigger & (Mb) & max used & (Mb)\\\\\n",
       "\\hline\n",
       "\tNcells & 492161 & 26.3 & 1085284 & 58 &  641780 & 34.3\\\\\n",
       "\tVcells & 941099 &  7.2 & 8388608 & 64 & 1753993 & 13.4\\\\\n",
       "\\end{tabular}\n"
      ],
      "text/markdown": [
       "\n",
       "A matrix: 2 × 6 of type dbl\n",
       "\n",
       "| <!--/--> | used | (Mb) | gc trigger | (Mb) | max used | (Mb) |\n",
       "|---|---|---|---|---|---|---|\n",
       "| Ncells | 492161 | 26.3 | 1085284 | 58 |  641780 | 34.3 |\n",
       "| Vcells | 941099 |  7.2 | 8388608 | 64 | 1753993 | 13.4 |\n",
       "\n"
      ],
      "text/plain": [
       "       used   (Mb) gc trigger (Mb) max used (Mb)\n",
       "Ncells 492161 26.3 1085284    58    641780  34.3\n",
       "Vcells 941099  7.2 8388608    64   1753993  13.4"
      ]
     },
     "metadata": {},
     "output_type": "display_data"
    },
    {
     "name": "stderr",
     "output_type": "stream",
     "text": [
      "Warning message:\n",
      "“package ‘ROCR’ was built under R version 3.6.3”\n",
      "Warning message:\n",
      "“package ‘rpart’ was built under R version 3.6.3”\n",
      "Loading required package: lattice\n",
      "\n",
      "Warning message:\n",
      "“package ‘lattice’ was built under R version 3.6.3”\n",
      "Loading required package: ggplot2\n",
      "\n"
     ]
    }
   ],
   "source": [
    "#limpio la memoria\n",
    "rm(list=ls())\n",
    "gc()\n",
    "\n",
    "#cargo librerias\n",
    "library(\"data.table\")\n",
    "library(\"ROCR\")\n",
    "library(\"rpart\")\n",
    "library(\"rpart.plot\")\n",
    "library(\"caret\")"
   ]
  },
  {
   "cell_type": "code",
   "execution_count": 14,
   "metadata": {
    "papermill": {
     "duration": 0.279475,
     "end_time": "2020-09-04T19:00:49.466032",
     "exception": false,
     "start_time": "2020-09-04T19:00:49.186557",
     "status": "completed"
    },
    "tags": []
   },
   "outputs": [],
   "source": [
    "\n",
    "#Parametros entrada\n",
    "\n",
    "#kcarpeta_datasets    <- \"../input/laboratorio-de-implementacion-i-2021/\"   #KAGGLE\n",
    "kcarpeta_datasets    <- \"~/buckets/b1/crudo/datasetsOri/\"                          #VM o Ubuntu\n",
    "\n",
    "#Archivo con datos etiquetados para entrenamiento\n",
    "karchivo_entrada      <-  paste0(kcarpeta_datasets, \"paquete_premium_202011.csv\")\n",
    "\n",
    "#Archivo con datos sin etiquetar para generar la predicción\n",
    "karchivo_predecir      <-  paste0(kcarpeta_datasets, \"paquete_premium_202101.csv\")\n",
    "\n",
    "#Formato para submit en Kaggle\n",
    "#karchivo_score      <-  \"../input/uamds2020ldi1f1/Sample_201910_Fase_I.txt\"\n",
    "\n",
    "#Separador de campos en archivos\n",
    "kcampos_separador     <-  \"\\t\"\n",
    "\n",
    "#Campo que identifica las muestras\n",
    "kcampo_id             <-  \"numero_de_cliente\"\n",
    "\n",
    "#Campo que contiene la clase a estimar\n",
    "kclase_nomcampo       <-  \"clase_ternaria\"\n",
    "\n",
    "#Valor de interés\n",
    "kclase_valor_positivo <-  \"BAJA+2\"\n",
    "\n",
    "#Campos a borrar para el entrenamiento\n",
    "kcampos_a_borrar      <-  c(kcampo_id,kclase_nomcampo,\"foto_mes\")\n",
    "\n",
    "#Campo que contendrá a la variable objetivo generada\n",
    "kobjetivo             <-  \"clase\"\n",
    "\n",
    "#Identificación del modelo\n",
    "kmodelo               <-  \"02-RPART\"\n",
    "\n",
    "#Ganancia por TP\n",
    "kTPGain               <-  48750\n",
    "\n",
    "#Pérdida por FP\n",
    "kFPGain               <-  -1250\n",
    "\n",
    "kSeed <- 0\n",
    "\n",
    "\n",
    "#Establezco semilla aleatoria\n",
    "set.seed(kSeed)\n",
    "\n"
   ]
  },
  {
   "cell_type": "code",
   "execution_count": 15,
   "metadata": {
    "papermill": {
     "duration": 3.125502,
     "end_time": "2020-09-04T19:00:52.608890",
     "exception": false,
     "start_time": "2020-09-04T19:00:49.483388",
     "status": "completed"
    },
    "tags": []
   },
   "outputs": [],
   "source": [
    "#cargo los datos\n",
    "dataset <- fread(karchivo_entrada)\n",
    "\n",
    "#Para hacer pruebas rapidas puedo reducir el dataset a una fraccion\n",
    "#subsample <- sample(1:nrow(dataset), .1 * nrow(dataset))\n",
    "#dataset <- dataset[subsample,]"
   ]
  },
  {
   "cell_type": "code",
   "execution_count": 16,
   "metadata": {
    "papermill": {
     "duration": 1.110089,
     "end_time": "2020-09-04T19:00:53.738438",
     "exception": false,
     "start_time": "2020-09-04T19:00:52.628349",
     "status": "completed"
    },
    "tags": []
   },
   "outputs": [
    {
     "name": "stderr",
     "output_type": "stream",
     "text": [
      "Warning message in `[.data.table`(dataset, , ..kclase_nomcampo):\n",
      "“Both 'kclase_nomcampo' and '..kclase_nomcampo' exist in calling scope. Please remove the '..kclase_nomcampo' variable in calling scope for clarity.”\n"
     ]
    }
   ],
   "source": [
    "#Genero la clase\n",
    "dataset[,(kobjetivo) := as.integer(dataset[,..kclase_nomcampo] == kclase_valor_positivo)]\n",
    "\n",
    "#Limpio campos a borrar\n",
    "dataset[ ,  (kcampos_a_borrar) := NULL    ] \n",
    "\n",
    "#Completo missings\n",
    "dataset[is.na(dataset)] <- 0"
   ]
  },
  {
   "cell_type": "code",
   "execution_count": 17,
   "metadata": {},
   "outputs": [],
   "source": [
    "# generacion del modelo\n",
    "formula  <-  formula(paste(kobjetivo, \"~ .\"))"
   ]
  },
  {
   "cell_type": "code",
   "execution_count": 18,
   "metadata": {},
   "outputs": [
    {
     "name": "stdout",
     "output_type": "stream",
     "text": [
      "[1] \"La Ganancia Fold: 1 7693750\"\n",
      "[1] \"La Ganancia Fold: 2 8187500\"\n",
      "[1] \"La Ganancia Fold: 3 7012500\"\n",
      "[1] \"La Ganancia Fold: 4 8387500\"\n",
      "[1] \"La Ganancia Fold: 5 7156250\"\n",
      "[1] \"La Ganancia Total: 7687500\"\n"
     ]
    }
   ],
   "source": [
    "#Genero los 5 folds\n",
    "folds <- createFolds(dataset$clase, 5, returnTrain = TRUE)\n",
    "\n",
    "#Inicializo ganancia\n",
    "ganancia_total <- 0\n",
    "\n",
    "\n",
    "for (fold in c(1,2,3,4,5))\n",
    "{\n",
    "\n",
    "#Selecciono los registros train/test para cada fold\n",
    "train <- dataset[unlist(folds[paste0('Fold',fold)]),]\n",
    "test <- dataset[-unlist(folds[paste0('Fold',fold)]),]\n",
    "    \n",
    "#Entreno el modelo\n",
    "modelo   <-  rpart(formula,   data = train, maxdepth = 5,  cp=0,   xval=0)   \n",
    "\n",
    "#Aplico al set de test\n",
    "predicted <- predict(modelo, test,) # predicted values\n",
    "\n",
    "#Calculo ganancia sobre dataset de pruebas\n",
    "test$score <- predicted\n",
    "test$Predicted <- test$score > 0.025\n",
    "\n",
    "#calculo la ganancia de incentivar cada caso\n",
    "test[  , ganancia:= kFPGain ] #-1250\n",
    "test[ clase==1,   ganancia:= kTPGain] #48750\n",
    "\n",
    "#Determino ganancia\n",
    "print(paste(\"La Ganancia Fold:\",fold, 5*sum(test$Predicted*test$ganancia)))\n",
    "ganancia_total <- ganancia_total + sum(test$Predicted*test$ganancia)   \n",
    "    \n",
    "}\n",
    "print(paste(\"La Ganancia Total:\",ganancia_total))"
   ]
  },
  {
   "cell_type": "code",
   "execution_count": 22,
   "metadata": {},
   "outputs": [],
   "source": [
    "#funcion que entrena/evalua ganancia para un foild\n",
    "calculo_ganancia <-function(){\n",
    "modelo   <-  rpart(formula,   data = train, maxdepth = 5,  cp=0,   xval=0)   \n",
    "\n",
    "predicted <- predict(modelo, test,) # predicted values\n",
    "\n",
    "#Calculo ganancia sobre dataset de pruebas\n",
    "test$score <- predicted\n",
    "test$Predicted <- test$score > 0.025\n",
    "\n",
    "#calculo la ganancia de incentivar cada caso\n",
    "test[  , ganancia:= kFPGain ] #-1250\n",
    "test[ clase==1,   ganancia:= kTPGain] #48750\n",
    "    \n",
    "return(sum(test$Predicted*test$ganancia))\n",
    "    }"
   ]
  },
  {
   "cell_type": "code",
   "execution_count": 29,
   "metadata": {},
   "outputs": [],
   "source": [
    "#Numero de semilla que estoy probando\n",
    "i <- 0\n",
    "\n",
    "#Inicializo ganancias CV\n",
    "ganancia_total_cv <- list()\n",
    "\n",
    "#Inicializo ganancias Train/Test\n",
    "ganancia_total_tt <- list()\n",
    "\n",
    "\n",
    "for (seed in c(21023, 39761,20707,2049,7187,7207,9436519, 30689))\n",
    "{\n",
    "i <- i + 1\n",
    "\n",
    "#Fija semilla    \n",
    "set.seed(seed)\n",
    "\n",
    "##### 5 Fold cross Validation ######\n",
    "#Genero folds\n",
    "folds <- createFolds(dataset$clase, 5, returnTrain = TRUE)\n",
    "ganancia_total_cv[[i]] <- 0\n",
    "for (fold in c(1,2,3,4,5))\n",
    "{\n",
    "#train_rows <- sample(1:nrow(dataset), .66 * nrow(dataset))\n",
    "train <- dataset[unlist(folds[paste0('Fold',fold)]),]\n",
    "test <- dataset[-unlist(folds[paste0('Fold',fold)]),]\n",
    "\n",
    "#Determino ganancia\n",
    "ganancia_total_cv[[i]]<- ganancia_total_cv[[i]] + calculo_ganancia()\n",
    "  \n",
    "}\n",
    "#######\n",
    "\n",
    "train_rows <- createDataPartition(dataset$clase, p = .66, list = FALSE)\n",
    "ganancia_total_tt[[i]] <- 0\n",
    "#train_rows <- sample(1:nrow(dataset), .66 * nrow(dataset))\n",
    "train <- dataset[train_rows,]\n",
    "test <- dataset[-train_rows,]\n",
    "#Determino ganancia\n",
    "ganancia_total_tt[[i]]<- ganancia_total_tt[[i]] + 3*calculo_ganancia()\n",
    "  \n",
    "}"
   ]
  },
  {
   "cell_type": "markdown",
   "metadata": {},
   "source": []
  },
  {
   "cell_type": "code",
   "execution_count": 30,
   "metadata": {},
   "outputs": [
    {
     "data": {
      "text/html": [
       "<ol>\n",
       "\t<li>6763750</li>\n",
       "\t<li>6922500</li>\n",
       "\t<li>7206250</li>\n",
       "\t<li>7905000</li>\n",
       "\t<li>7330000</li>\n",
       "\t<li>7371250</li>\n",
       "\t<li>6980000</li>\n",
       "\t<li>7470000</li>\n",
       "</ol>\n"
      ],
      "text/latex": [
       "\\begin{enumerate}\n",
       "\\item 6763750\n",
       "\\item 6922500\n",
       "\\item 7206250\n",
       "\\item 7905000\n",
       "\\item 7330000\n",
       "\\item 7371250\n",
       "\\item 6980000\n",
       "\\item 7470000\n",
       "\\end{enumerate}\n"
      ],
      "text/markdown": [
       "1. 6763750\n",
       "2. 6922500\n",
       "3. 7206250\n",
       "4. 7905000\n",
       "5. 7330000\n",
       "6. 7371250\n",
       "7. 6980000\n",
       "8. 7470000\n",
       "\n",
       "\n"
      ],
      "text/plain": [
       "[[1]]\n",
       "[1] 6763750\n",
       "\n",
       "[[2]]\n",
       "[1] 6922500\n",
       "\n",
       "[[3]]\n",
       "[1] 7206250\n",
       "\n",
       "[[4]]\n",
       "[1] 7905000\n",
       "\n",
       "[[5]]\n",
       "[1] 7330000\n",
       "\n",
       "[[6]]\n",
       "[1] 7371250\n",
       "\n",
       "[[7]]\n",
       "[1] 6980000\n",
       "\n",
       "[[8]]\n",
       "[1] 7470000\n"
      ]
     },
     "metadata": {},
     "output_type": "display_data"
    }
   ],
   "source": [
    "ganancia_total_cv"
   ]
  },
  {
   "cell_type": "code",
   "execution_count": 31,
   "metadata": {},
   "outputs": [
    {
     "data": {
      "text/html": [
       "<ol>\n",
       "\t<li>8388750</li>\n",
       "\t<li>12086250</li>\n",
       "\t<li>7541250</li>\n",
       "\t<li>9045000</li>\n",
       "\t<li>6791250</li>\n",
       "\t<li>6131250</li>\n",
       "\t<li>6697500</li>\n",
       "\t<li>6930000</li>\n",
       "</ol>\n"
      ],
      "text/latex": [
       "\\begin{enumerate}\n",
       "\\item 8388750\n",
       "\\item 12086250\n",
       "\\item 7541250\n",
       "\\item 9045000\n",
       "\\item 6791250\n",
       "\\item 6131250\n",
       "\\item 6697500\n",
       "\\item 6930000\n",
       "\\end{enumerate}\n"
      ],
      "text/markdown": [
       "1. 8388750\n",
       "2. 12086250\n",
       "3. 7541250\n",
       "4. 9045000\n",
       "5. 6791250\n",
       "6. 6131250\n",
       "7. 6697500\n",
       "8. 6930000\n",
       "\n",
       "\n"
      ],
      "text/plain": [
       "[[1]]\n",
       "[1] 8388750\n",
       "\n",
       "[[2]]\n",
       "[1] 12086250\n",
       "\n",
       "[[3]]\n",
       "[1] 7541250\n",
       "\n",
       "[[4]]\n",
       "[1] 9045000\n",
       "\n",
       "[[5]]\n",
       "[1] 6791250\n",
       "\n",
       "[[6]]\n",
       "[1] 6131250\n",
       "\n",
       "[[7]]\n",
       "[1] 6697500\n",
       "\n",
       "[[8]]\n",
       "[1] 6930000\n"
      ]
     },
     "metadata": {},
     "output_type": "display_data"
    }
   ],
   "source": [
    "ganancia_total_tt"
   ]
  },
  {
   "cell_type": "code",
   "execution_count": null,
   "metadata": {},
   "outputs": [],
   "source": []
  }
 ],
 "metadata": {
  "kernelspec": {
   "display_name": "R",
   "language": "R",
   "name": "ir"
  },
  "language_info": {
   "codemirror_mode": "r",
   "file_extension": ".r",
   "mimetype": "text/x-r-source",
   "name": "R",
   "pygments_lexer": "r",
   "version": "3.6.1"
  },
  "papermill": {
   "duration": 216.919775,
   "end_time": "2020-09-04T19:04:21.680072",
   "environment_variables": {},
   "exception": null,
   "input_path": "__notebook__.ipynb",
   "output_path": "__notebook__.ipynb",
   "parameters": {},
   "start_time": "2020-09-04T19:00:44.760297",
   "version": "2.1.2"
  }
 },
 "nbformat": 4,
 "nbformat_minor": 4
}
