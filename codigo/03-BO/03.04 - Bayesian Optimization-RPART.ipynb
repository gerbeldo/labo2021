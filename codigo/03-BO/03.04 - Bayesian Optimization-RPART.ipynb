{
 "cells": [
  {
   "cell_type": "code",
   "execution_count": 1,
   "id": "82f2979e",
   "metadata": {},
   "outputs": [
    {
     "data": {
      "text/html": [
       "<table class=\"dataframe\">\n",
       "<caption>A matrix: 2 × 6 of type dbl</caption>\n",
       "<thead>\n",
       "\t<tr><th></th><th scope=col>used</th><th scope=col>(Mb)</th><th scope=col>gc trigger</th><th scope=col>(Mb)</th><th scope=col>max used</th><th scope=col>(Mb)</th></tr>\n",
       "</thead>\n",
       "<tbody>\n",
       "\t<tr><th scope=row>Ncells</th><td>492078</td><td>26.3</td><td>1085047</td><td>58</td><td> 641780</td><td>34.3</td></tr>\n",
       "\t<tr><th scope=row>Vcells</th><td>940890</td><td> 7.2</td><td>8388608</td><td>64</td><td>1753993</td><td>13.4</td></tr>\n",
       "</tbody>\n",
       "</table>\n"
      ],
      "text/latex": [
       "A matrix: 2 × 6 of type dbl\n",
       "\\begin{tabular}{r|llllll}\n",
       "  & used & (Mb) & gc trigger & (Mb) & max used & (Mb)\\\\\n",
       "\\hline\n",
       "\tNcells & 492078 & 26.3 & 1085047 & 58 &  641780 & 34.3\\\\\n",
       "\tVcells & 940890 &  7.2 & 8388608 & 64 & 1753993 & 13.4\\\\\n",
       "\\end{tabular}\n"
      ],
      "text/markdown": [
       "\n",
       "A matrix: 2 × 6 of type dbl\n",
       "\n",
       "| <!--/--> | used | (Mb) | gc trigger | (Mb) | max used | (Mb) |\n",
       "|---|---|---|---|---|---|---|\n",
       "| Ncells | 492078 | 26.3 | 1085047 | 58 |  641780 | 34.3 |\n",
       "| Vcells | 940890 |  7.2 | 8388608 | 64 | 1753993 | 13.4 |\n",
       "\n"
      ],
      "text/plain": [
       "       used   (Mb) gc trigger (Mb) max used (Mb)\n",
       "Ncells 492078 26.3 1085047    58    641780  34.3\n",
       "Vcells 940890  7.2 8388608    64   1753993  13.4"
      ]
     },
     "metadata": {},
     "output_type": "display_data"
    },
    {
     "name": "stderr",
     "output_type": "stream",
     "text": [
      "Warning message:\n",
      "“package ‘rlist’ was built under R version 3.6.3”\n",
      "Warning message:\n",
      "“package ‘yaml’ was built under R version 3.6.3”\n",
      "Warning message:\n",
      "“package ‘rpart’ was built under R version 3.6.3”\n",
      "Warning message:\n",
      "“package ‘DiceKriging’ was built under R version 3.6.3”\n",
      "Warning message:\n",
      "“package ‘mlrMBO’ was built under R version 3.6.3”\n",
      "Loading required package: mlr\n",
      "\n",
      "Warning message:\n",
      "“package ‘mlr’ was built under R version 3.6.3”\n",
      "Loading required package: ParamHelpers\n",
      "\n",
      "Warning message:\n",
      "“package ‘ParamHelpers’ was built under R version 3.6.3”\n",
      "Warning message: 'mlr' is in 'maintenance-only' mode since July 2019.\n",
      "Future development will only happen in 'mlr3'\n",
      "(<https://mlr3.mlr-org.com>). Due to the focus on 'mlr3' there might be\n",
      "uncaught bugs meanwhile in {mlr} - please consider switching.\n",
      "\n",
      "Loading required package: smoof\n",
      "\n",
      "Warning message:\n",
      "“package ‘smoof’ was built under R version 3.6.3”\n",
      "Loading required package: checkmate\n",
      "\n",
      "Warning message:\n",
      "“package ‘checkmate’ was built under R version 3.6.3”\n",
      "\n",
      "Attaching package: ‘checkmate’\n",
      "\n",
      "\n",
      "The following object is masked from ‘package:DiceKriging’:\n",
      "\n",
      "    checkNames\n",
      "\n",
      "\n",
      "Warning message:\n",
      "“no DISPLAY variable so Tk is not available”\n"
     ]
    }
   ],
   "source": [
    "#Optimizacion Bayesiana de hiperparametros de  rpart\n",
    "#funciona automaticamente con EXPERIMENTOS\n",
    "#va generando incrementalmente salidas para kaggle\n",
    "\n",
    "#limpio la memoria\n",
    "rm( list=ls() )  #remove all objects\n",
    "gc()             #garbage collection\n",
    "\n",
    "library(\"data.table\")\n",
    "library(\"rlist\")\n",
    "library(\"yaml\")\n",
    "\n",
    "library(\"rpart\")\n",
    "library(\"parallel\")\n",
    "\n",
    "#paquetes necesarios para la Bayesian Optimization\n",
    "library(\"DiceKriging\")\n",
    "library(\"mlrMBO\")"
   ]
  },
  {
   "cell_type": "code",
   "execution_count": 2,
   "id": "ae340076",
   "metadata": {},
   "outputs": [],
   "source": [
    "#para poder usarlo en la PC y en la nube\n",
    "switch ( Sys.info()[['sysname']],\n",
    "         Windows = { directory.root   <-  \"M:\\\\\" },   #Microsoft Windows\n",
    "         Darwin  = { directory.root   <-  \"~/dm/\" },  #Apple MAC\n",
    "         Linux   = { directory.root   <-  \"~/buckets/b1/crudo/\" }  #Entorno Google Cloud\n",
    "       )\n",
    "#defino la carpeta donde trabajo\n",
    "setwd( directory.root )"
   ]
  },
  {
   "cell_type": "code",
   "execution_count": 3,
   "id": "eee41117",
   "metadata": {},
   "outputs": [],
   "source": [
    "kexperimento  <- NA   #NA si se corre la primera vez, un valor concreto si es para continuar procesando\n",
    "\n",
    "kscript           <- \"03.01 - BO Rpart\"\n",
    "karch_generacion  <- \"./datasetsOri/paquete_premium_202011.csv\"\n",
    "karch_aplicacion  <- \"./datasetsOri/paquete_premium_202101.csv\"\n",
    "kBO_iter    <-  200   #cantidad de iteraciones de la Optimizacion Bayesiana\n",
    "\n",
    "hs  <- makeParamSet(\n",
    "          makeNumericParam(\"cp\"       , lower= -1   , upper=    0.1),\n",
    "          makeIntegerParam(\"minsplit\" , lower=  1L  , upper= 8000L),  #la letra L al final significa ENTERO\n",
    "          makeIntegerParam(\"minbucket\", lower=  1L  , upper= 2000L),\n",
    "          makeIntegerParam(\"maxdepth\" , lower=  3L  , upper=   20L),\n",
    "          forbidden = quote( minbucket > 0.5*minsplit ) )\n",
    "\n",
    "\n",
    "ksemilla_azar  <- 102191"
   ]
  },
  {
   "cell_type": "code",
   "execution_count": 4,
   "id": "dc20f831",
   "metadata": {},
   "outputs": [],
   "source": [
    "#------------------------------------------------------------------------------\n",
    "#Funcion que lleva el registro de los experimentos\n",
    "\n",
    "get_experimento  <- function()\n",
    "{\n",
    "  if( !file.exists( \"./maestro.yaml\" ) )  cat( file=\"./maestro.yaml\", \"experimento: 1000\" )\n",
    "\n",
    "  exp  <- read_yaml( \"./maestro.yaml\" )\n",
    "  experimento_actual  <- exp$experimento\n",
    "\n",
    "  exp$experimento  <- as.integer(exp$experimento + 1)\n",
    "  Sys.chmod( \"./maestro.yaml\", mode = \"0644\", use_umask = TRUE)\n",
    "  write_yaml( exp, \"./maestro.yaml\" )\n",
    "  Sys.chmod( \"./maestro.yaml\", mode = \"0444\", use_umask = TRUE) #dejo el archivo readonly\n",
    "\n",
    "  return( experimento_actual )\n",
    "}"
   ]
  },
  {
   "cell_type": "code",
   "execution_count": 5,
   "id": "e56e00fb",
   "metadata": {},
   "outputs": [],
   "source": [
    "#------------------------------------------------------------------------------\n",
    "#graba a un archivo los componentes de lista\n",
    "#para el primer registro, escribe antes los titulos\n",
    "\n",
    "loguear  <- function( reg, arch=NA, folder=\"./work/\", ext=\".txt\", verbose=TRUE )\n",
    "{\n",
    "  archivo  <- arch\n",
    "  if( is.na(arch) )  archivo  <- paste0(  folder, substitute( reg), ext )\n",
    "\n",
    "  if( !file.exists( archivo ) )  #Escribo los titulos\n",
    "  {\n",
    "    linea  <- paste0( \"fecha\\t\", \n",
    "                      paste( list.names(reg), collapse=\"\\t\" ), \"\\n\" )\n",
    "\n",
    "    cat( linea, file=archivo )\n",
    "  }\n",
    "\n",
    "  linea  <- paste0( format(Sys.time(), \"%Y%m%d %H%M%S\"),  \"\\t\",     #la fecha y hora\n",
    "                    gsub( \", \", \"\\t\", toString( reg ) ),  \"\\n\" )\n",
    "\n",
    "  cat( linea, file=archivo, append=TRUE )  #grabo al archivo\n",
    "\n",
    "  if( verbose )  cat( linea )   #imprimo por pantalla\n",
    "}"
   ]
  },
  {
   "cell_type": "code",
   "execution_count": 6,
   "id": "9251dd91",
   "metadata": {},
   "outputs": [],
   "source": [
    "#------------------------------------------------------------------------------\n",
    "#funcion para particionar, es la que Andres reemplaza con caret\n",
    "\n",
    "particionar  <- function( data, division, agrupa=\"\", campo=\"fold\", start=1, seed=NA )\n",
    "{\n",
    "  if( !is.na( seed)  )   set.seed( seed )\n",
    "\n",
    "  bloque  <- unlist( mapply(  function(x,y) { rep( y, x ) }, division, seq( from=start, length.out=length(division) )  ) )\n",
    "\n",
    "  data[ , (campo) :=  sample( rep( bloque, ceiling(.N/length(bloque))) )[1:.N],\n",
    "           by= agrupa ]\n",
    "}\n",
    "#------------------------------------------------------------------------------"
   ]
  },
  {
   "cell_type": "code",
   "execution_count": 7,
   "id": "4eee555c",
   "metadata": {},
   "outputs": [],
   "source": [
    "ArbolSimple  <- function( fold_test, data, param )\n",
    "{\n",
    "  #genero el modelo\n",
    "  modelo  <- rpart(\"clase_ternaria ~ .\", \n",
    "                   data= data[ fold != fold_test, ],\n",
    "                   xval= 0,\n",
    "                   control= param )\n",
    "\n",
    "  #aplico el modelo a los datos de testing, fold==2\n",
    "  prediccion  <- predict( modelo, data[ fold==fold_test, ], type = \"prob\")\n",
    "\n",
    "  prob_baja2  <- prediccion[, \"BAJA+2\"]\n",
    "\n",
    "  ganancia_testing  <- sum(  data[ fold==fold_test ][ prob_baja2 >0.025,  ifelse( clase_ternaria==\"BAJA+2\", 48750, -1250 ) ] )\n",
    "\n",
    "  return( ganancia_testing )\n",
    "}"
   ]
  },
  {
   "cell_type": "code",
   "execution_count": 8,
   "id": "e8cf761f",
   "metadata": {},
   "outputs": [],
   "source": [
    "#------------------------------------------------------------------------------\n",
    "\n",
    "ArbolesCrossValidation  <- function( data, param, qfolds, pagrupa, semilla )\n",
    "{\n",
    "  divi  <- rep( 1, qfolds )\n",
    "  particionar( data, divi, seed=semilla, agrupa=pagrupa )\n",
    "\n",
    "  ganancias  <- mcmapply( ArbolSimple, \n",
    "                          seq(qfolds), # 1 2 3 4 5  \n",
    "                          MoreArgs= list( data, param), \n",
    "                          SIMPLIFY= FALSE,\n",
    "                          mc.cores= 5 )   #se puede subir a 5 si posee Linux o Mac OS\n",
    "\n",
    "  data[ , fold := NULL ]\n",
    "  #devuelvo la primer ganancia y el promedio\n",
    "  return( mean( unlist( ganancias )) *  qfolds )   #aqui normalizo la ganancia\n",
    "}"
   ]
  },
  {
   "cell_type": "code",
   "execution_count": 9,
   "id": "04c0f8a8",
   "metadata": {},
   "outputs": [],
   "source": [
    "#------------------------------------------------------------------------------\n",
    "#esta funcion solo puede recibir los parametros que se estan optimizando\n",
    "#el resto de los parametros se pasan como variables globales\n",
    "\n",
    "EstimarGanancia  <- function( x )\n",
    "{\n",
    "   GLOBAL_iteracion  <<-  GLOBAL_iteracion + 1\n",
    "\n",
    "   xval_folds  <- 5\n",
    "   ganancia  <-  ArbolesCrossValidation( dataset, param=x, qfolds= xval_folds, pagrupa=\"clase_ternaria\", semilla=ksemilla_azar )\n",
    "\n",
    "   #si tengo una ganancia superadora, genero el archivo para Kaggle\n",
    "   if(  ganancia > GLOBAL_ganancia_max )\n",
    "   {\n",
    "     GLOBAL_ganancia_max <<-  ganancia  #asigno la nueva maxima ganancia\n",
    "    \n",
    "     modelo  <- rpart(\"clase_ternaria ~ .\",\n",
    "                      data= dataset,\n",
    "                      xval= 0,\n",
    "                      control= x )\n",
    "\n",
    "     #genero el vector con la prediccion, la probabilidad de ser positivo\n",
    "     prediccion  <- predict( modelo, dapply)\n",
    "\n",
    "     prob_baja2  <- prediccion[, \"BAJA+2\"]\n",
    "     Predicted   <- ifelse( prob_baja2 > 0.025, 1, 0 )\n",
    "\n",
    "     entrega  <-  as.data.table( list( \"numero_de_cliente\"=dapply$numero_de_cliente, \"Predicted\"=Predicted)  )\n",
    "\n",
    "     #genero el archivo para Kaggle\n",
    "     fwrite( entrega, \n",
    "             file= paste0(kkaggle, GLOBAL_iteracion, \".csv\" ),\n",
    "             sep=  \",\" )\n",
    "   }\n",
    "\n",
    "   #logueo \n",
    "   xx  <- x\n",
    "   xx$xval_folds  <-  xval_folds\n",
    "   xx$ganancia  <- ganancia\n",
    "   loguear( xx,  arch= klog )\n",
    "\n",
    "\n",
    "   return( ganancia )\n",
    "}\n",
    "#------------------------------------------------------------------------------"
   ]
  },
  {
   "cell_type": "code",
   "execution_count": 10,
   "id": "e3901ca3",
   "metadata": {},
   "outputs": [],
   "source": [
    "#Aqui empieza el programa\n",
    "\n",
    "if( is.na(kexperimento ) )   kexperimento <- get_experimento()  #creo el experimento"
   ]
  },
  {
   "cell_type": "code",
   "execution_count": 11,
   "id": "6c018e67",
   "metadata": {},
   "outputs": [],
   "source": [
    "#en estos archivos quedan los resultados\n",
    "kbayesiana  <- paste0(\"./work/E\",  kexperimento, \"_rpart.RDATA\" )\n",
    "klog        <- paste0(\"./work/E\",  kexperimento, \"_rpart_log.txt\" )\n",
    "kkaggle     <- paste0(\"./kaggle/E\",kexperimento, \"_rpart_kaggle_\" )"
   ]
  },
  {
   "cell_type": "code",
   "execution_count": 12,
   "id": "10b65ad8",
   "metadata": {},
   "outputs": [],
   "source": [
    "GLOBAL_ganancia_max  <-  -Inf\n",
    "GLOBAL_iteracion  <- 0"
   ]
  },
  {
   "cell_type": "code",
   "execution_count": 13,
   "id": "b811b5fe",
   "metadata": {},
   "outputs": [],
   "source": [
    "if( file.exists(klog) )\n",
    "{\n",
    " tabla_log  <- fread( klog)\n",
    " GLOBAL_iteracion  <- nrow( tabla_log ) -1\n",
    " GLOBAL_ganancia_max  <-  tabla_log[ , max(ganancia) ]\n",
    "}"
   ]
  },
  {
   "cell_type": "code",
   "execution_count": 14,
   "id": "6227f8f1",
   "metadata": {},
   "outputs": [],
   "source": [
    "#cargo los datasets\n",
    "dataset  <- fread(karch_generacion)   #donde entreno\n",
    "dapply  <- fread(karch_aplicacion)    #donde aplico el modelo"
   ]
  },
  {
   "cell_type": "code",
   "execution_count": 15,
   "id": "4abe8aae",
   "metadata": {},
   "outputs": [],
   "source": [
    "#Aqui comienza la configuracion de la Bayesian Optimization\n",
    "\n",
    "configureMlr( show.learner.output = FALSE)\n",
    "\n",
    "funcion_optimizar  <- EstimarGanancia\n",
    "\n",
    "#configuro la busqueda bayesiana,  los hiperparametros que se van a optimizar\n",
    "#por favor, no desesperarse por lo complejo\n",
    "obj.fun  <- makeSingleObjectiveFunction(\n",
    "              fn=       funcion_optimizar,\n",
    "              minimize= FALSE,   #estoy Maximizando la ganancia\n",
    "              noisy=    TRUE,\n",
    "              par.set=  hs,\n",
    "              has.simple.signature = FALSE\n",
    "             )\n",
    "\n",
    "ctrl  <- makeMBOControl( save.on.disk.at.time= 600,  save.file.path= kbayesiana)\n",
    "ctrl  <- setMBOControlTermination(ctrl, iters= kBO_iter )\n",
    "ctrl  <- setMBOControlInfill(ctrl, crit= makeMBOInfillCritEI())\n",
    "\n",
    "surr.km  <-  makeLearner(\"regr.km\", predict.type= \"se\", covtype= \"matern3_2\", control= list(trace= TRUE))"
   ]
  },
  {
   "cell_type": "code",
   "execution_count": null,
   "id": "b2a27608",
   "metadata": {},
   "outputs": [
    {
     "name": "stderr",
     "output_type": "stream",
     "text": [
      "Computing y column(s) for design. Not provided.\n",
      "\n"
     ]
    },
    {
     "name": "stdout",
     "output_type": "stream",
     "text": [
      "20210903 163127\t-0.11803685661871\t4037\t499\t8\t5\t8318750\n",
      "20210903 163150\t-0.807102801634755\t6315\t1462\t6\t5\t7783750\n",
      "20210903 163232\t-0.72545432754996\t4930\t1064\t10\t5\t8292500\n",
      "20210903 163316\t-0.2292730446934\t3458\t1326\t14\t5\t7985000\n",
      "20210903 163403\t-0.435396663319261\t7854\t901\t13\t5\t7873750\n",
      "20210903 163457\t-0.683192678492924\t2173\t868\t7\t5\t8351250\n",
      "20210903 163601\t-0.344508100372332\t5699\t196\t20\t5\t8343750\n",
      "20210903 163626\t-0.460279139662452\t7118\t68\t5\t5\t7955000\n",
      "20210903 163648\t-0.253486779540253\t6917\t1641\t4\t5\t7546250\n",
      "20210903 163716\t0.0116837216584829\t5233\t1956\t18\t5\t0\n",
      "20210903 163808\t-0.955280557920923\t3961\t589\t17\t5\t8306250\n",
      "20210903 163847\t-0.49549774767831\t3917\t1816\t10\t5\t7812500\n",
      "20210903 163908\t-0.974445402333513\t7773\t319\t4\t5\t7873750\n",
      "20210903 163957\t-0.113420343208127\t5241\t1005\t15\t5\t8257500\n",
      "20210903 164014\t0.051272066764068\t6795\t249\t4\t5\t0\n",
      "20210903 164103\t-0.0367552251787855\t6506\t544\t15\t5\t8348750\n"
     ]
    },
    {
     "name": "stderr",
     "output_type": "stream",
     "text": [
      "[mbo] 0: cp=-0.118; minsplit=4037; minbucket=499; maxdepth=8 : y = 8.32e+06 : 60.1 secs : initdesign\n",
      "\n",
      "[mbo] 0: cp=-0.807; minsplit=6315; minbucket=1462; maxdepth=6 : y = 7.78e+06 : 22.9 secs : initdesign\n",
      "\n",
      "[mbo] 0: cp=-0.725; minsplit=4930; minbucket=1064; maxdepth=10 : y = 8.29e+06 : 42.0 secs : initdesign\n",
      "\n",
      "[mbo] 0: cp=-0.229; minsplit=3458; minbucket=1326; maxdepth=14 : y = 7.98e+06 : 43.8 secs : initdesign\n",
      "\n",
      "[mbo] 0: cp=-0.435; minsplit=7854; minbucket=901; maxdepth=13 : y = 7.87e+06 : 47.2 secs : initdesign\n",
      "\n",
      "[mbo] 0: cp=-0.683; minsplit=2173; minbucket=868; maxdepth=7 : y = 8.35e+06 : 53.6 secs : initdesign\n",
      "\n",
      "[mbo] 0: cp=-0.345; minsplit=5699; minbucket=196; maxdepth=20 : y = 8.34e+06 : 64.7 secs : initdesign\n",
      "\n",
      "[mbo] 0: cp=-0.46; minsplit=7118; minbucket=68; maxdepth=5 : y = 7.96e+06 : 24.2 secs : initdesign\n",
      "\n",
      "[mbo] 0: cp=-0.253; minsplit=6917; minbucket=1641; maxdepth=4 : y = 7.55e+06 : 22.9 secs : initdesign\n",
      "\n",
      "[mbo] 0: cp=0.0117; minsplit=5233; minbucket=1956; maxdepth=18 : y = 0 : 27.4 secs : initdesign\n",
      "\n",
      "[mbo] 0: cp=-0.955; minsplit=3961; minbucket=589; maxdepth=17 : y = 8.31e+06 : 52.0 secs : initdesign\n",
      "\n",
      "[mbo] 0: cp=-0.495; minsplit=3917; minbucket=1816; maxdepth=10 : y = 7.81e+06 : 39.5 secs : initdesign\n",
      "\n",
      "[mbo] 0: cp=-0.974; minsplit=7773; minbucket=319; maxdepth=4 : y = 7.87e+06 : 20.2 secs : initdesign\n",
      "\n",
      "[mbo] 0: cp=-0.113; minsplit=5241; minbucket=1005; maxdepth=15 : y = 8.26e+06 : 49.1 secs : initdesign\n",
      "\n",
      "[mbo] 0: cp=0.0513; minsplit=6795; minbucket=249; maxdepth=4 : y = 0 : 17.0 secs : initdesign\n",
      "\n",
      "[mbo] 0: cp=-0.0368; minsplit=6506; minbucket=544; maxdepth=15 : y = 8.35e+06 : 49.1 secs : initdesign\n",
      "\n",
      "Saved the current state after iteration 1 in the file ./work/E1006_rpart.RDATA.\n",
      "\n"
     ]
    },
    {
     "name": "stdout",
     "output_type": "stream",
     "text": [
      "20210903 164155\t-0.0644864398245086\t7212\t9\t14\t5\t7668750\n"
     ]
    },
    {
     "name": "stderr",
     "output_type": "stream",
     "text": [
      "[mbo] 1: cp=-0.0645; minsplit=7212; minbucket=9; maxdepth=14 : y = 7.67e+06 : 49.9 secs : infill_ei\n",
      "\n"
     ]
    },
    {
     "name": "stdout",
     "output_type": "stream",
     "text": [
      "20210903 164250\t-0.0799832229409987\t5834\t655\t17\t5\t8257500\n"
     ]
    },
    {
     "name": "stderr",
     "output_type": "stream",
     "text": [
      "[mbo] 2: cp=-0.08; minsplit=5834; minbucket=655; maxdepth=17 : y = 8.26e+06 : 52.9 secs : infill_ei\n",
      "\n"
     ]
    },
    {
     "name": "stdout",
     "output_type": "stream",
     "text": [
      "20210903 164326\t-0.0498716111816603\t1300\t390\t15\t5\t8278750\n"
     ]
    },
    {
     "name": "stderr",
     "output_type": "stream",
     "text": [
      "[mbo] 3: cp=-0.0499; minsplit=1300; minbucket=390; maxdepth=15 : y = 8.28e+06 : 34.0 secs : infill_ei\n",
      "\n"
     ]
    },
    {
     "name": "stdout",
     "output_type": "stream",
     "text": [
      "20210903 164411\t-0.688348767339077\t7992\t1991\t12\t5\t7592500\n"
     ]
    },
    {
     "name": "stderr",
     "output_type": "stream",
     "text": [
      "[mbo] 4: cp=-0.688; minsplit=7992; minbucket=1991; maxdepth=12 : y = 7.59e+06 : 43.0 secs : infill_ei\n",
      "\n"
     ]
    },
    {
     "name": "stdout",
     "output_type": "stream",
     "text": [
      "20210903 164437\t-0.380364435216606\t4008\t77\t5\t5\t8183750\n"
     ]
    },
    {
     "name": "stderr",
     "output_type": "stream",
     "text": [
      "[mbo] 5: cp=-0.38; minsplit=4008; minbucket=77; maxdepth=5 : y = 8.18e+06 : 24.0 secs : infill_ei\n",
      "\n"
     ]
    },
    {
     "name": "stdout",
     "output_type": "stream",
     "text": [
      "20210903 164451\t-0.714697706576485\t105\t47\t3\t5\t8263750\n"
     ]
    },
    {
     "name": "stderr",
     "output_type": "stream",
     "text": [
      "[mbo] 6: cp=-0.715; minsplit=105; minbucket=47; maxdepth=3 : y = 8.26e+06 : 11.8 secs : infill_ei\n",
      "\n"
     ]
    },
    {
     "name": "stdout",
     "output_type": "stream",
     "text": [
      "20210903 164630\t-0.162774339953715\t1500\t625\t18\t5\t8793750\n"
     ]
    },
    {
     "name": "stderr",
     "output_type": "stream",
     "text": [
      "[mbo] 7: cp=-0.163; minsplit=1500; minbucket=625; maxdepth=18 : y = 8.79e+06 : 96.6 secs : infill_ei\n",
      "\n"
     ]
    },
    {
     "name": "stdout",
     "output_type": "stream",
     "text": [
      "20210903 164653\t-0.170852321292286\t4029\t1763\t3\t5\t7520000\n"
     ]
    },
    {
     "name": "stderr",
     "output_type": "stream",
     "text": [
      "[mbo] 8: cp=-0.171; minsplit=4029; minbucket=1763; maxdepth=3 : y = 7.52e+06 : 21.1 secs : infill_ei\n",
      "\n"
     ]
    },
    {
     "name": "stdout",
     "output_type": "stream",
     "text": [
      "20210903 164812\t-0.136048755159573\t9\t4\t20\t5\t2752500\n"
     ]
    },
    {
     "name": "stderr",
     "output_type": "stream",
     "text": [
      "[mbo] 9: cp=-0.136; minsplit=9; minbucket=4; maxdepth=20 : y = 2.75e+06 : 76.3 secs : infill_ei\n",
      "\n"
     ]
    },
    {
     "name": "stdout",
     "output_type": "stream",
     "text": [
      "20210903 164849\t-0.256174996278039\t3397\t554\t14\t5\t8198750\n"
     ]
    },
    {
     "name": "stderr",
     "output_type": "stream",
     "text": [
      "[mbo] 10: cp=-0.256; minsplit=3397; minbucket=554; maxdepth=14 : y = 8.2e+06 : 34.6 secs : infill_ei\n",
      "\n"
     ]
    },
    {
     "name": "stdout",
     "output_type": "stream",
     "text": [
      "20210903 164945\t-0.426890865383149\t5116\t623\t19\t5\t8257500\n"
     ]
    },
    {
     "name": "stderr",
     "output_type": "stream",
     "text": [
      "[mbo] 11: cp=-0.427; minsplit=5116; minbucket=623; maxdepth=19 : y = 8.26e+06 : 53.9 secs : infill_ei\n",
      "\n"
     ]
    },
    {
     "name": "stdout",
     "output_type": "stream",
     "text": [
      "20210903 165037\t-0.108891379795817\t1426\t495\t18\t5\t8377500\n"
     ]
    },
    {
     "name": "stderr",
     "output_type": "stream",
     "text": [
      "[mbo] 12: cp=-0.109; minsplit=1426; minbucket=495; maxdepth=18 : y = 8.38e+06 : 50.1 secs : infill_ei\n",
      "\n"
     ]
    },
    {
     "name": "stdout",
     "output_type": "stream",
     "text": [
      "20210903 165121\t-0.198258321656878\t1996\t995\t9\t5\t8783750\n"
     ]
    },
    {
     "name": "stderr",
     "output_type": "stream",
     "text": [
      "[mbo] 13: cp=-0.198; minsplit=1996; minbucket=995; maxdepth=9 : y = 8.78e+06 : 41.6 secs : infill_ei\n",
      "\n",
      "Saved the current state after iteration 14 in the file ./work/E1006_rpart.RDATA.\n",
      "\n"
     ]
    },
    {
     "name": "stdout",
     "output_type": "stream",
     "text": [
      "20210903 165155\t-0.526476738155855\t3666\t259\t8\t5\t8416250\n"
     ]
    },
    {
     "name": "stderr",
     "output_type": "stream",
     "text": [
      "[mbo] 14: cp=-0.526; minsplit=3666; minbucket=259; maxdepth=8 : y = 8.42e+06 : 31.8 secs : infill_ei\n",
      "\n"
     ]
    },
    {
     "name": "stdout",
     "output_type": "stream",
     "text": [
      "20210903 165246\t-0.129545614710356\t1800\t665\t11\t5\t8580000\n"
     ]
    },
    {
     "name": "stderr",
     "output_type": "stream",
     "text": [
      "[mbo] 15: cp=-0.13; minsplit=1800; minbucket=665; maxdepth=11 : y = 8.58e+06 : 48.7 secs : infill_ei\n",
      "\n"
     ]
    },
    {
     "name": "stdout",
     "output_type": "stream",
     "text": [
      "20210903 165332\t-0.165465214006141\t2739\t881\t20\t5\t8265000\n"
     ]
    },
    {
     "name": "stderr",
     "output_type": "stream",
     "text": [
      "[mbo] 16: cp=-0.165; minsplit=2739; minbucket=881; maxdepth=20 : y = 8.26e+06 : 44.4 secs : infill_ei\n",
      "\n"
     ]
    },
    {
     "name": "stdout",
     "output_type": "stream",
     "text": [
      "20210903 165405\t-0.659809462903826\t4150\t142\t6\t5\t8296250\n"
     ]
    },
    {
     "name": "stderr",
     "output_type": "stream",
     "text": [
      "[mbo] 17: cp=-0.66; minsplit=4150; minbucket=142; maxdepth=6 : y = 8.3e+06 : 31.4 secs : infill_ei\n",
      "\n"
     ]
    },
    {
     "name": "stdout",
     "output_type": "stream",
     "text": [
      "20210903 165417\t-0.443108914348057\t2829\t1259\t3\t5\t7850000\n"
     ]
    },
    {
     "name": "stderr",
     "output_type": "stream",
     "text": [
      "[mbo] 18: cp=-0.443; minsplit=2829; minbucket=1259; maxdepth=3 : y = 7.85e+06 : 9.6 secs : infill_ei\n",
      "\n"
     ]
    },
    {
     "name": "stdout",
     "output_type": "stream",
     "text": [
      "20210903 165529\t-0.737048552104818\t8000\t214\t18\t5\t7873750\n"
     ]
    },
    {
     "name": "stderr",
     "output_type": "stream",
     "text": [
      "[mbo] 19: cp=-0.737; minsplit=8000; minbucket=214; maxdepth=18 : y = 7.87e+06 : 70.0 secs : infill_ei\n",
      "\n"
     ]
    },
    {
     "name": "stdout",
     "output_type": "stream",
     "text": [
      "20210903 165604\t-0.975417777776442\t1056\t419\t8\t5\t8575000\n"
     ]
    },
    {
     "name": "stderr",
     "output_type": "stream",
     "text": [
      "[mbo] 20: cp=-0.975; minsplit=1056; minbucket=419; maxdepth=8 : y = 8.58e+06 : 33.2 secs : infill_ei\n",
      "\n"
     ]
    },
    {
     "name": "stdout",
     "output_type": "stream",
     "text": [
      "20210903 165659\t-0.330626715580805\t7989\t353\t18\t5\t7873750\n"
     ]
    },
    {
     "name": "stderr",
     "output_type": "stream",
     "text": [
      "[mbo] 21: cp=-0.331; minsplit=7989; minbucket=353; maxdepth=18 : y = 7.87e+06 : 51.9 secs : infill_ei\n",
      "\n"
     ]
    },
    {
     "name": "stdout",
     "output_type": "stream",
     "text": [
      "20210903 165735\t-0.36050850019378\t4636\t1142\t8\t5\t8430000\n"
     ]
    },
    {
     "name": "stderr",
     "output_type": "stream",
     "text": [
      "[mbo] 22: cp=-0.361; minsplit=4636; minbucket=1142; maxdepth=8 : y = 8.43e+06 : 34.0 secs : infill_ei\n",
      "\n"
     ]
    },
    {
     "name": "stdout",
     "output_type": "stream",
     "text": [
      "20210903 165906\t-0.686362472355624\t2080\t1040\t17\t5\t8922500\n"
     ]
    },
    {
     "name": "stderr",
     "output_type": "stream",
     "text": [
      "[mbo] 23: cp=-0.686; minsplit=2080; minbucket=1040; maxdepth=17 : y = 8.92e+06 : 87.1 secs : infill_ei\n",
      "\n"
     ]
    },
    {
     "name": "stdout",
     "output_type": "stream",
     "text": [
      "20210903 165946\t-0.119871640954932\t1904\t818\t16\t5\t8407500\n"
     ]
    },
    {
     "name": "stderr",
     "output_type": "stream",
     "text": [
      "[mbo] 24: cp=-0.12; minsplit=1904; minbucket=818; maxdepth=16 : y = 8.41e+06 : 37.9 secs : infill_ei\n",
      "\n"
     ]
    },
    {
     "name": "stdout",
     "output_type": "stream",
     "text": [
      "20210903 170035\t-0.873967001579493\t2591\t1292\t15\t5\t7905000\n"
     ]
    },
    {
     "name": "stderr",
     "output_type": "stream",
     "text": [
      "[mbo] 25: cp=-0.874; minsplit=2591; minbucket=1292; maxdepth=15 : y = 7.9e+06 : 45.2 secs : infill_ei\n",
      "\n"
     ]
    },
    {
     "name": "stdout",
     "output_type": "stream",
     "text": [
      "20210903 170203\t-0.740448982854359\t1402\t698\t20\t5\t9045000\n"
     ]
    },
    {
     "name": "stderr",
     "output_type": "stream",
     "text": [
      "[mbo] 26: cp=-0.74; minsplit=1402; minbucket=698; maxdepth=20 : y = 9.04e+06 : 85.0 secs : infill_ei\n",
      "\n",
      "Saved the current state after iteration 27 in the file ./work/E1006_rpart.RDATA.\n",
      "\n"
     ]
    },
    {
     "name": "stdout",
     "output_type": "stream",
     "text": [
      "20210903 170253\t-0.759970240484332\t4788\t966\t20\t5\t8257500\n"
     ]
    },
    {
     "name": "stderr",
     "output_type": "stream",
     "text": [
      "[mbo] 27: cp=-0.76; minsplit=4788; minbucket=966; maxdepth=20 : y = 8.26e+06 : 47.0 secs : infill_ei\n",
      "\n"
     ]
    },
    {
     "name": "stdout",
     "output_type": "stream",
     "text": [
      "20210903 170346\t-0.623238449168346\t717\t354\t20\t5\t7332500\n"
     ]
    },
    {
     "name": "stderr",
     "output_type": "stream",
     "text": [
      "[mbo] 28: cp=-0.623; minsplit=717; minbucket=354; maxdepth=20 : y = 7.33e+06 : 51.1 secs : infill_ei\n",
      "\n"
     ]
    },
    {
     "name": "stdout",
     "output_type": "stream",
     "text": [
      "20210903 170436\t-0.814481215747305\t1923\t291\t12\t5\t8255000\n"
     ]
    },
    {
     "name": "stderr",
     "output_type": "stream",
     "text": [
      "[mbo] 29: cp=-0.814; minsplit=1923; minbucket=291; maxdepth=12 : y = 8.26e+06 : 47.3 secs : infill_ei\n",
      "\n"
     ]
    },
    {
     "name": "stdout",
     "output_type": "stream",
     "text": [
      "20210903 170513\t-0.412064201164887\t5853\t1\t10\t5\t8218750\n"
     ]
    },
    {
     "name": "stderr",
     "output_type": "stream",
     "text": [
      "[mbo] 30: cp=-0.412; minsplit=5853; minbucket=1; maxdepth=10 : y = 8.22e+06 : 34.2 secs : infill_ei\n",
      "\n"
     ]
    },
    {
     "name": "stdout",
     "output_type": "stream",
     "text": [
      "20210903 170605\t-0.171119356054009\t7972\t569\t13\t5\t7873750\n"
     ]
    },
    {
     "name": "stderr",
     "output_type": "stream",
     "text": [
      "[mbo] 31: cp=-0.171; minsplit=7972; minbucket=569; maxdepth=13 : y = 7.87e+06 : 49.7 secs : infill_ei\n",
      "\n"
     ]
    },
    {
     "name": "stdout",
     "output_type": "stream",
     "text": [
      "20210903 170653\t-0.786956906735225\t1581\t790\t18\t5\t8848750\n"
     ]
    },
    {
     "name": "stderr",
     "output_type": "stream",
     "text": [
      "[mbo] 32: cp=-0.787; minsplit=1581; minbucket=790; maxdepth=18 : y = 8.85e+06 : 43.9 secs : infill_ei\n",
      "\n"
     ]
    },
    {
     "name": "stdout",
     "output_type": "stream",
     "text": [
      "20210903 170733\t-0.363127762933935\t1008\t504\t7\t5\t8830000\n"
     ]
    },
    {
     "name": "stderr",
     "output_type": "stream",
     "text": [
      "[mbo] 33: cp=-0.363; minsplit=1008; minbucket=504; maxdepth=7 : y = 8.83e+06 : 37.2 secs : infill_ei\n",
      "\n"
     ]
    },
    {
     "name": "stdout",
     "output_type": "stream",
     "text": [
      "20210903 170747\t-0.85071078064735\t1148\t525\t3\t5\t8262500\n"
     ]
    },
    {
     "name": "stderr",
     "output_type": "stream",
     "text": [
      "[mbo] 34: cp=-0.851; minsplit=1148; minbucket=525; maxdepth=3 : y = 8.26e+06 : 12.4 secs : infill_ei\n",
      "\n"
     ]
    },
    {
     "name": "stdout",
     "output_type": "stream",
     "text": [
      "20210903 170842\t-0.529106549057492\t2008\t1004\t20\t5\t8747500\n"
     ]
    },
    {
     "name": "stderr",
     "output_type": "stream",
     "text": [
      "[mbo] 35: cp=-0.529; minsplit=2008; minbucket=1004; maxdepth=20 : y = 8.75e+06 : 51.6 secs : infill_ei\n",
      "\n"
     ]
    },
    {
     "name": "stdout",
     "output_type": "stream",
     "text": [
      "20210903 170922\t-0.999571794765006\t7822\t1\t11\t5\t7768750\n"
     ]
    },
    {
     "name": "stderr",
     "output_type": "stream",
     "text": [
      "[mbo] 36: cp=-1; minsplit=7822; minbucket=1; maxdepth=11 : y = 7.77e+06 : 37.9 secs : infill_ei\n",
      "\n"
     ]
    },
    {
     "name": "stdout",
     "output_type": "stream",
     "text": [
      "20210903 170944\t-0.682492425794386\t4015\t2000\t3\t5\t7420000\n"
     ]
    },
    {
     "name": "stderr",
     "output_type": "stream",
     "text": [
      "[mbo] 37: cp=-0.682; minsplit=4015; minbucket=2000; maxdepth=3 : y = 7.42e+06 : 17.7 secs : infill_ei\n",
      "\n"
     ]
    },
    {
     "name": "stdout",
     "output_type": "stream",
     "text": [
      "20210903 171006\t-0.577448699619315\t8000\t1442\t9\t5\t7842500\n"
     ]
    },
    {
     "name": "stderr",
     "output_type": "stream",
     "text": [
      "[mbo] 38: cp=-0.577; minsplit=8000; minbucket=1442; maxdepth=9 : y = 7.84e+06 : 20.8 secs : infill_ei\n",
      "\n"
     ]
    },
    {
     "name": "stdout",
     "output_type": "stream",
     "text": [
      "20210903 171022\t-0.999686483375883\t2318\t1\t4\t5\t8310000\n"
     ]
    },
    {
     "name": "stderr",
     "output_type": "stream",
     "text": [
      "[mbo] 39: cp=-1; minsplit=2318; minbucket=1; maxdepth=4 : y = 8.31e+06 : 14.0 secs : infill_ei\n",
      "\n"
     ]
    },
    {
     "name": "stdout",
     "output_type": "stream",
     "text": [
      "20210903 171120\t-0.999888129721855\t1578\t635\t20\t5\t8596250\n"
     ]
    },
    {
     "name": "stderr",
     "output_type": "stream",
     "text": [
      "[mbo] 40: cp=-1; minsplit=1578; minbucket=635; maxdepth=20 : y = 8.6e+06 : 54.9 secs : infill_ei\n",
      "\n"
     ]
    },
    {
     "name": "stdout",
     "output_type": "stream",
     "text": [
      "20210903 171150\t-0.184169292749767\t1219\t487\t9\t5\t8478750\n"
     ]
    },
    {
     "name": "stderr",
     "output_type": "stream",
     "text": [
      "[mbo] 41: cp=-0.184; minsplit=1219; minbucket=487; maxdepth=9 : y = 8.48e+06 : 27.7 secs : infill_ei\n",
      "\n"
     ]
    },
    {
     "name": "stdout",
     "output_type": "stream",
     "text": [
      "20210903 171210\t-0.200096183063981\t2771\t1384\t7\t5\t8030000\n"
     ]
    },
    {
     "name": "stderr",
     "output_type": "stream",
     "text": [
      "[mbo] 42: cp=-0.2; minsplit=2771; minbucket=1384; maxdepth=7 : y = 8.03e+06 : 17.3 secs : infill_ei\n",
      "\n",
      "Saved the current state after iteration 43 in the file ./work/E1006_rpart.RDATA.\n",
      "\n"
     ]
    },
    {
     "name": "stdout",
     "output_type": "stream",
     "text": [
      "20210903 171240\t-0.697987844984097\t1826\t903\t20\t5\t8590000\n"
     ]
    },
    {
     "name": "stderr",
     "output_type": "stream",
     "text": [
      "[mbo] 43: cp=-0.698; minsplit=1826; minbucket=903; maxdepth=20 : y = 8.59e+06 : 28.2 secs : infill_ei\n",
      "\n"
     ]
    },
    {
     "name": "stdout",
     "output_type": "stream",
     "text": [
      "20210903 171331\t-0.807842422096642\t2315\t575\t20\t5\t8863750\n"
     ]
    },
    {
     "name": "stderr",
     "output_type": "stream",
     "text": [
      "[mbo] 44: cp=-0.808; minsplit=2315; minbucket=575; maxdepth=20 : y = 8.86e+06 : 49.0 secs : infill_ei\n",
      "\n"
     ]
    },
    {
     "name": "stdout",
     "output_type": "stream",
     "text": [
      "20210903 171418\t-0.502193068945341\t2219\t1106\t13\t5\t8718750\n"
     ]
    },
    {
     "name": "stderr",
     "output_type": "stream",
     "text": [
      "[mbo] 45: cp=-0.502; minsplit=2219; minbucket=1106; maxdepth=13 : y = 8.72e+06 : 43.9 secs : infill_ei\n",
      "\n"
     ]
    },
    {
     "name": "stdout",
     "output_type": "stream",
     "text": [
      "20210903 171456\t-0.435813463565006\t3280\t618\t7\t5\t8258750\n"
     ]
    },
    {
     "name": "stderr",
     "output_type": "stream",
     "text": [
      "[mbo] 46: cp=-0.436; minsplit=3280; minbucket=618; maxdepth=7 : y = 8.26e+06 : 36.0 secs : infill_ei\n",
      "\n"
     ]
    },
    {
     "name": "stdout",
     "output_type": "stream",
     "text": [
      "20210903 171531\t-0.829333349400873\t583\t290\t6\t5\t8672500\n"
     ]
    },
    {
     "name": "stderr",
     "output_type": "stream",
     "text": [
      "[mbo] 47: cp=-0.829; minsplit=583; minbucket=290; maxdepth=6 : y = 8.67e+06 : 31.2 secs : infill_ei\n",
      "\n"
     ]
    }
   ],
   "source": [
    "#inicio la optimizacion bayesiana\n",
    "if(!file.exists(kbayesiana)) {\n",
    "  run  <- mbo(obj.fun, learner = surr.km, control = ctrl)\n",
    "} else  run  <- mboContinue( kbayesiana )   #retomo en caso que ya exista"
   ]
  },
  {
   "cell_type": "code",
   "execution_count": null,
   "id": "3945059d",
   "metadata": {},
   "outputs": [],
   "source": [
    "quit( save=\"no\" )"
   ]
  },
  {
   "cell_type": "code",
   "execution_count": null,
   "id": "d17d68cd",
   "metadata": {},
   "outputs": [],
   "source": []
  }
 ],
 "metadata": {
  "kernelspec": {
   "display_name": "R",
   "language": "R",
   "name": "ir"
  },
  "language_info": {
   "codemirror_mode": "r",
   "file_extension": ".r",
   "mimetype": "text/x-r-source",
   "name": "R",
   "pygments_lexer": "r",
   "version": "3.6.1"
  }
 },
 "nbformat": 4,
 "nbformat_minor": 5
}
