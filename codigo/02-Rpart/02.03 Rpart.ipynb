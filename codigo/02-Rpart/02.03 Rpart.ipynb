{
 "cells": [
  {
   "cell_type": "code",
   "execution_count": 8,
   "metadata": {
    "papermill": {
     "duration": 1.629423,
     "end_time": "2020-09-04T19:00:49.168162",
     "exception": false,
     "start_time": "2020-09-04T19:00:47.538739",
     "status": "completed"
    },
    "tags": []
   },
   "outputs": [
    {
     "data": {
      "text/html": [
       "<table class=\"dataframe\">\n",
       "<caption>A matrix: 2 × 6 of type dbl</caption>\n",
       "<thead>\n",
       "\t<tr><th></th><th scope=col>used</th><th scope=col>(Mb)</th><th scope=col>gc trigger</th><th scope=col>(Mb)</th><th scope=col>max used</th><th scope=col>(Mb)</th></tr>\n",
       "</thead>\n",
       "<tbody>\n",
       "\t<tr><th scope=row>Ncells</th><td> 618211</td><td>33.1</td><td> 1083215</td><td> 57.9</td><td> 1083215</td><td> 57.9</td></tr>\n",
       "\t<tr><th scope=row>Vcells</th><td>1167787</td><td> 9.0</td><td>65217887</td><td>497.6</td><td>81516407</td><td>622.0</td></tr>\n",
       "</tbody>\n",
       "</table>\n"
      ],
      "text/latex": [
       "A matrix: 2 × 6 of type dbl\n",
       "\\begin{tabular}{r|llllll}\n",
       "  & used & (Mb) & gc trigger & (Mb) & max used & (Mb)\\\\\n",
       "\\hline\n",
       "\tNcells &  618211 & 33.1 &  1083215 &  57.9 &  1083215 &  57.9\\\\\n",
       "\tVcells & 1167787 &  9.0 & 65217887 & 497.6 & 81516407 & 622.0\\\\\n",
       "\\end{tabular}\n"
      ],
      "text/markdown": [
       "\n",
       "A matrix: 2 × 6 of type dbl\n",
       "\n",
       "| <!--/--> | used | (Mb) | gc trigger | (Mb) | max used | (Mb) |\n",
       "|---|---|---|---|---|---|---|\n",
       "| Ncells |  618211 | 33.1 |  1083215 |  57.9 |  1083215 |  57.9 |\n",
       "| Vcells | 1167787 |  9.0 | 65217887 | 497.6 | 81516407 | 622.0 |\n",
       "\n"
      ],
      "text/plain": [
       "       used    (Mb) gc trigger (Mb)  max used (Mb) \n",
       "Ncells  618211 33.1  1083215    57.9  1083215  57.9\n",
       "Vcells 1167787  9.0 65217887   497.6 81516407 622.0"
      ]
     },
     "metadata": {},
     "output_type": "display_data"
    },
    {
     "name": "stderr",
     "output_type": "stream",
     "text": [
      "Loading required package: lattice\n",
      "\n",
      "Warning message:\n",
      "“package ‘lattice’ was built under R version 3.6.3”\n",
      "Loading required package: ggplot2\n",
      "\n"
     ]
    }
   ],
   "source": [
    "#limpio la memoria\n",
    "rm(list=ls())\n",
    "gc()\n",
    "\n",
    "#cargo librerias\n",
    "library(\"data.table\")\n",
    "library(\"ROCR\")\n",
    "library(\"rpart\")\n",
    "library(\"rpart.plot\")\n",
    "library(\"caret\")"
   ]
  },
  {
   "cell_type": "code",
   "execution_count": 9,
   "metadata": {
    "papermill": {
     "duration": 0.279475,
     "end_time": "2020-09-04T19:00:49.466032",
     "exception": false,
     "start_time": "2020-09-04T19:00:49.186557",
     "status": "completed"
    },
    "tags": []
   },
   "outputs": [],
   "source": [
    "\n",
    "#Parametros entrada\n",
    "\n",
    "#kcarpeta_datasets    <- \"../input/laboratorio-de-implementacion-i-2021/\"   #KAGGLE\n",
    "kcarpeta_datasets    <- \"~/buckets/b1/datasets/\"                          #VM o Ubuntu\n",
    "\n",
    "#Archivo con datos etiquetados para entrenamiento\n",
    "karchivo_entrada      <-  paste0(kcarpeta_datasets, \"paquete_premium_202011.csv\")\n",
    "\n",
    "#Archivo con datos sin etiquetar para generar la predicción\n",
    "karchivo_predecir      <-  paste0(kcarpeta_datasets, \"paquete_premium_202101.csv\")\n",
    "\n",
    "#Formato para submit en Kaggle\n",
    "#karchivo_score      <-  \"../input/uamds2020ldi1f1/Sample_201910_Fase_I.txt\"\n",
    "\n",
    "#Separador de campos en archivos\n",
    "kcampos_separador     <-  \"\\t\"\n",
    "\n",
    "#Campo que identifica las muestras\n",
    "kcampo_id             <-  \"numero_de_cliente\"\n",
    "\n",
    "#Campo que contiene la clase a estimar\n",
    "kclase_nomcampo       <-  \"clase_ternaria\"\n",
    "\n",
    "#Valor de interés\n",
    "kclase_valor_positivo <-  \"BAJA+2\"\n",
    "\n",
    "#Campos a borrar para el entrenamiento\n",
    "kcampos_a_borrar      <-  c(kcampo_id,kclase_nomcampo,\"foto_mes\")\n",
    "\n",
    "#Campo que contendrá a la variable objetivo generada\n",
    "kobjetivo             <-  \"clase\"\n",
    "\n",
    "#Identificación del modelo\n",
    "kmodelo               <-  \"02-RPART\"\n",
    "\n",
    "#Ganancia por TP\n",
    "kTPGain               <-  48750\n",
    "\n",
    "#Pérdida por FP\n",
    "kFPGain               <-  -1250\n",
    "\n",
    "kSeed <- 0\n",
    "\n",
    "\n",
    "#Establezco semilla aleatoria\n",
    "set.seed(kSeed)\n"
   ]
  },
  {
   "cell_type": "code",
   "execution_count": 10,
   "metadata": {
    "papermill": {
     "duration": 3.125502,
     "end_time": "2020-09-04T19:00:52.608890",
     "exception": false,
     "start_time": "2020-09-04T19:00:49.483388",
     "status": "completed"
    },
    "tags": []
   },
   "outputs": [],
   "source": [
    "#cargo los datos\n",
    "dataset <- fread(karchivo_entrada)\n",
    "\n",
    "#Para hacer pruebas rapidas puedo reducir el dataset a una fraccion\n",
    "#subsample <- sample(1:nrow(dataset), .1 * nrow(dataset))\n",
    "#dataset <- dataset[subsample,]"
   ]
  },
  {
   "cell_type": "code",
   "execution_count": 11,
   "metadata": {
    "papermill": {
     "duration": 1.110089,
     "end_time": "2020-09-04T19:00:53.738438",
     "exception": false,
     "start_time": "2020-09-04T19:00:52.628349",
     "status": "completed"
    },
    "tags": []
   },
   "outputs": [
    {
     "name": "stderr",
     "output_type": "stream",
     "text": [
      "Warning message in `[.data.table`(dataset, , ..kclase_nomcampo):\n",
      "“Both 'kclase_nomcampo' and '..kclase_nomcampo' exist in calling scope. Please remove the '..kclase_nomcampo' variable in calling scope for clarity.”\n"
     ]
    }
   ],
   "source": [
    "#Genero la clase\n",
    "dataset[,(kobjetivo) := as.integer(dataset[,..kclase_nomcampo] == kclase_valor_positivo)]\n",
    "\n",
    "#Limpio campos a borrar\n",
    "dataset[ ,  (kcampos_a_borrar) := NULL    ] \n",
    "\n",
    "#Completo missings\n",
    "dataset[is.na(dataset)] <- 0"
   ]
  },
  {
   "cell_type": "code",
   "execution_count": 12,
   "metadata": {},
   "outputs": [],
   "source": [
    "# generacion del modelo\n",
    "formula  <-  formula(paste(kobjetivo, \"~ .\"))"
   ]
  },
  {
   "cell_type": "code",
   "execution_count": 13,
   "metadata": {},
   "outputs": [],
   "source": [
    "train_rows <- createDataPartition(dataset$clase, p = .66, list = FALSE)\n",
    "\n",
    "#train_rows <- sample(1:nrow(dataset), .66 * nrow(dataset))\n",
    "train <- dataset[train_rows,]\n",
    "test <- dataset[-train_rows,]"
   ]
  },
  {
   "cell_type": "code",
   "execution_count": 22,
   "metadata": {
    "papermill": {
     "duration": 56.333957,
     "end_time": "2020-09-04T19:01:51.065177",
     "exception": false,
     "start_time": "2020-09-04T19:00:54.731220",
     "status": "completed"
    },
    "tags": []
   },
   "outputs": [
    {
     "name": "stdout",
     "output_type": "stream",
     "text": [
      "[1] 9.836196\n"
     ]
    }
   ],
   "source": [
    "#Genero el modelo\n",
    "t0       <-  Sys.time()\n",
    "modelo   <-  rpart(formula,   data = train,   cp=0.001,   xval=0)\n",
    "t1       <-  Sys.time()\n",
    "\n",
    "tcorrida <-  as.numeric( t1 - t0, units = \"secs\")\n",
    "print( tcorrida)"
   ]
  },
  {
   "cell_type": "code",
   "execution_count": 23,
   "metadata": {
    "papermill": {
     "duration": 1.0663,
     "end_time": "2020-09-04T19:01:52.150467",
     "exception": false,
     "start_time": "2020-09-04T19:01:51.084167",
     "status": "completed"
    },
    "tags": []
   },
   "outputs": [],
   "source": [
    "#Evalúo sobre test\n",
    "predicted <- predict(modelo, test,) # predicted values"
   ]
  },
  {
   "cell_type": "code",
   "execution_count": 24,
   "metadata": {
    "papermill": {
     "duration": 0.042756,
     "end_time": "2020-09-04T19:01:52.213056",
     "exception": false,
     "start_time": "2020-09-04T19:01:52.170300",
     "status": "completed"
    },
    "tags": []
   },
   "outputs": [
    {
     "data": {
      "text/plain": [
       "n= 157482 \n",
       "\n",
       "node), split, n, deviance, yval\n",
       "      * denotes terminal node\n",
       "\n",
       "     1) root 157482 612.5983000 0.0039052080  \n",
       "       2) ctrx_quarter>=25.5 140969 222.6472000 0.0015819080  \n",
       "         4) ctrx_quarter>=49.5 122243 108.9028000 0.0008916666 *\n",
       "         5) ctrx_quarter< 49.5 18726 113.3060000 0.0060877920  \n",
       "          10) mcaja_ahorro>=3597.4 11855  38.8717000 0.0032897510 *\n",
       "          11) mcaja_ahorro< 3597.4 6871  74.1813400 0.0109154400  \n",
       "            22) Visa_mconsumospesos< 214909.5 6864  72.2236300 0.0106352000  \n",
       "              44) ctarjeta_visa_transacciones>=1.5 4849  29.8143900 0.0061868430 *\n",
       "              45) ctarjeta_visa_transacciones< 1.5 2015  42.0823800 0.0213399500  \n",
       "                90) chomebanking_transacciones< 41.5 1796  27.5634700 0.0155902000 *\n",
       "                91) chomebanking_transacciones>=41.5 219  13.9726000 0.0684931500  \n",
       "                 182) ctarjeta_debito_transacciones< 4.5 210  11.3142900 0.0571428600  \n",
       "                   364) cliente_edad>=32.5 180   5.8000000 0.0333333300 *\n",
       "                   365) cliente_edad< 32.5 30   4.8000000 0.2000000000  \n",
       "                     730) Visa_mpagospesos>=-76.755 17   0.0000000 0.0000000000 *\n",
       "                     731) Visa_mpagospesos< -76.755 13   3.2307690 0.4615385000 *\n",
       "                 183) ctarjeta_debito_transacciones>=4.5 9   2.0000000 0.3333333000 *\n",
       "            23) Visa_mconsumospesos>=214909.5 7   1.4285710 0.2857143000 *\n",
       "       3) ctrx_quarter< 25.5 16513 382.6944000 0.0237388700  \n",
       "         6) mpasivos_margen>=29.38 9863 131.2065000 0.0134847400 *\n",
       "         7) mpasivos_margen< 29.38 6650 248.9126000 0.0389473700  \n",
       "          14) mprestamos_personales>=24383.04 1080   9.9074070 0.0092592590 *\n",
       "          15) mprestamos_personales< 24383.04 5570 237.8688000 0.0447037700  \n",
       "            30) mrentabilidad_annual< 1111.92 2063  48.7881700 0.0242365500  \n",
       "              60) Visa_mlimitecompra< 1053250 2033  44.9591700 0.0226266600  \n",
       "               120) mactivos_margen< 14.93 1787  32.3906000 0.0184667000 *\n",
       "               121) mactivos_margen>=14.93 246  12.3130100 0.0528455300  \n",
       "                 242) cliente_edad>=32.5 204   6.7598040 0.0343137300  \n",
       "                   484) mactivos_margen>=16.265 197   4.8730960 0.0253807100  \n",
       "                     968) mactivos_margen>=43.345 133   0.0000000 0.0000000000 *\n",
       "                     969) mactivos_margen< 43.345 64   4.6093750 0.0781250000  \n",
       "                      1938) mcomisiones< 64.155 56   0.9821429 0.0178571400 *\n",
       "                      1939) mcomisiones>=64.155 8   2.0000000 0.5000000000 *\n",
       "                   485) mactivos_margen< 16.265 7   1.4285710 0.2857143000 *\n",
       "                 243) cliente_edad< 32.5 42   5.1428570 0.1428571000  \n",
       "                   486) Visa_fechaalta< 379.5 19   0.0000000 0.0000000000 *\n",
       "                   487) Visa_fechaalta>=379.5 23   4.4347830 0.2608696000  \n",
       "                     974) mrentabilidad>=289.77 10   0.0000000 0.0000000000 *\n",
       "                     975) mrentabilidad< 289.77 13   3.2307690 0.4615385000 *\n",
       "              61) Visa_mlimitecompra>=1053250 30   3.4666670 0.1333333000  \n",
       "               122) cliente_edad>=41.5 22   0.9545455 0.0454545500 *\n",
       "               123) cliente_edad< 41.5 8   1.8750000 0.3750000000 *\n",
       "            31) mrentabilidad_annual>=1111.92 3507 187.7080000 0.0567436600  \n",
       "              62) ccajas_otras< 1.5 3492 183.2222000 0.0555555600  \n",
       "               124) mactivos_margen>=321.49 548  10.7792000 0.0200729900 *\n",
       "               125) mactivos_margen< 321.49 2944 171.6247000 0.0621603300  \n",
       "                 250) cproductos>=5.5 2367 122.8602000 0.0549218400  \n",
       "                   500) tmobile_app< 0.5 2351 119.2471000 0.0535942200  \n",
       "                    1000) mrentabilidad_annual>=1136.91 2341 116.5374000 0.0525416500  \n",
       "                      2000) mrentabilidad< -9.305 220   1.9818180 0.0090909090 *\n",
       "                      2001) mrentabilidad>=-9.305 2121 114.0971000 0.0570485600  \n",
       "                        4002) cliente_edad>=37.5 1622  74.2490800 0.0480887800  \n",
       "                          8004) cliente_antiguedad>=8.5 1582  67.8135300 0.0448799000 *\n",
       "                          8005) cliente_antiguedad< 8.5 40   5.7750000 0.1750000000  \n",
       "                           16010) ccomisiones_mantenimiento< 0.5 30   2.7000000 0.1000000000 *\n",
       "                           16011) ccomisiones_mantenimiento>=0.5 10   2.4000000 0.4000000000 *\n",
       "                        4003) cliente_edad< 37.5 499  39.2945900 0.0861723400  \n",
       "                          8006) cprestamos_personales< 0.5 476  34.1239500 0.0777310900  \n",
       "                           16012) cmobile_app_trx>=0.5 149   2.9395970 0.0201342300 *\n",
       "                           16013) cmobile_app_trx< 0.5 327  30.4648300 0.1039755000  \n",
       "                             32026) mrentabilidad_annual< 9836.59 249  16.6988000 0.0722891600  \n",
       "                               64052) mcaja_ahorro< 245.085 204   8.6029410 0.0441176500 *\n",
       "                               64053) mcaja_ahorro>=245.085 45   7.2000000 0.2000000000  \n",
       "                                128106) ctrx_quarter< 16.5 30   2.7000000 0.1000000000 *\n",
       "                                128107) ctrx_quarter>=16.5 15   3.6000000 0.4000000000 *\n",
       "                             32027) mrentabilidad_annual>=9836.59 78  12.7179500 0.2051282000  \n",
       "                               64054) Visa_fultimo_cierre>=8.5 17   0.0000000 0.0000000000 *\n",
       "                               64055) Visa_fultimo_cierre< 8.5 61  11.8032800 0.2622951000  \n",
       "                                128110) mcuenta_corriente< -244.97 52   8.6730770 0.2115385000  \n",
       "                                  256220) mcuentas_saldo>=-10737.47 42   5.1428570 0.1428571000  \n",
       "                                    512440) mpasivos_margen>=0.035 24   0.0000000 0.0000000000 *\n",
       "                                    512441) mpasivos_margen< 0.035 18   4.0000000 0.3333333000 *\n",
       "                                  256221) mcuentas_saldo< -10737.47 10   2.5000000 0.5000000000 *\n",
       "                                128111) mcuenta_corriente>=-244.97 9   2.2222220 0.5555556000 *\n",
       "                          8007) cprestamos_personales>=0.5 23   4.4347830 0.2608696000  \n",
       "                           16014) Visa_mlimitecompra< 168480 15   0.9333333 0.0666666700 *\n",
       "                           16015) Visa_mlimitecompra>=168480 8   1.8750000 0.6250000000 *\n",
       "                    1001) mrentabilidad_annual< 1136.91 10   2.1000000 0.3000000000 *\n",
       "                   501) tmobile_app>=0.5 16   3.0000000 0.2500000000 *\n",
       "                 251) cproductos< 5.5 577  48.1317200 0.0918544200  \n",
       "                   502) ccallcenter_transacciones< 6 569  44.7803200 0.0861159900 *\n",
       "                   503) ccallcenter_transacciones>=6 8   2.0000000 0.5000000000 *\n",
       "              63) ccajas_otras>=1.5 15   3.3333330 0.3333333000 *"
      ]
     },
     "metadata": {},
     "output_type": "display_data"
    }
   ],
   "source": [
    "#Detalles del modelo\n",
    "modelo"
   ]
  },
  {
   "cell_type": "code",
   "execution_count": 25,
   "metadata": {
    "papermill": {
     "duration": 0.360185,
     "end_time": "2020-09-04T19:02:22.940847",
     "exception": false,
     "start_time": "2020-09-04T19:02:22.580662",
     "status": "completed"
    },
    "tags": []
   },
   "outputs": [
    {
     "data": {
      "image/png": "[encoded data removed]",
      "text/plain": [
       "plot without title"
      ]
     },
     "metadata": {
      "image/png": {
       "height": 900,
       "width": 900
      },
      "text/plain": {
       "height": 900,
       "width": 900
      }
     },
     "output_type": "display_data"
    }
   ],
   "source": [
    "#Arbol generado\n",
    "options(repr.plot.width=15, repr.plot.height=15)\n",
    "prp(modelo, extra=101, digits=5, branch=1, type=4, varlen=0, faclen=0, tweak=1.3)"
   ]
  },
  {
   "cell_type": "code",
   "execution_count": 28,
   "metadata": {
    "papermill": {
     "duration": 0.293419,
     "end_time": "2020-09-04T19:02:23.863598",
     "exception": false,
     "start_time": "2020-09-04T19:02:23.570179",
     "status": "completed"
    },
    "tags": []
   },
   "outputs": [
    {
     "name": "stdout",
     "output_type": "stream",
     "text": [
      "[1] \"La Ganancia es: 7676250\"\n"
     ]
    }
   ],
   "source": [
    "#Calculo ganancia sobre dataset de pruebas\n",
    "test$score <- predicted\n",
    "test$Predicted <- test$score > 0.025\n",
    "\n",
    "#Selecciono primeros N\n",
    "#seleccionar = 1400\n",
    "#top_n = order(-test$score)[1:seleccionar]\n",
    "#test[top_n,\"Predicted\"] <- 1\n",
    "\n",
    "#calculo la ganancia de incentivar cada caso\n",
    "test[  , ganancia:= kFPGain ] #-1250\n",
    "test[ clase==1,   ganancia:= kTPGain] #48750\n",
    "\n",
    "\n",
    "#Determino ganancia\n",
    "print(paste(\"La Ganancia es:\", 3*sum(test$Predicted*test$ganancia)))"
   ]
  },
  {
   "cell_type": "code",
   "execution_count": 31,
   "metadata": {
    "papermill": {
     "duration": 110.854829,
     "end_time": "2020-09-04T19:04:15.329508",
     "exception": false,
     "start_time": "2020-09-04T19:02:24.474679",
     "status": "completed"
    },
    "tags": []
   },
   "outputs": [
    {
     "name": "stdout",
     "output_type": "stream",
     "text": [
      "[1] 17.46701\n"
     ]
    },
    {
     "data": {
      "image/png": "[encoded data removed]",
      "text/plain": [
       "plot without title"
      ]
     },
     "metadata": {
      "image/png": {
       "height": 900,
       "width": 900
      },
      "text/plain": {
       "height": 900,
       "width": 900
      }
     },
     "output_type": "display_data"
    }
   ],
   "source": [
    "#Genero el modelo sobre dataset completo\n",
    "\n",
    "t0       <-  Sys.time()\n",
    "modelo   <-  rpart(formula,   data = dataset,  cp=        0.001,    xval=0)\n",
    "t1       <-  Sys.time()\n",
    "\n",
    "tcorrida <-  as.numeric( t1 - t0, units = \"secs\")\n",
    "print( tcorrida)\n",
    "\n",
    "#Arbol generado\n",
    "options(repr.plot.width=15, repr.plot.height=15)\n",
    "prp(modelo, extra=101, digits=5, branch=1, type=4, varlen=0, faclen=0, tweak=1.3)"
   ]
  },
  {
   "cell_type": "code",
   "execution_count": 32,
   "metadata": {
    "papermill": {
     "duration": 2.186041,
     "end_time": "2020-09-04T19:04:18.120606",
     "exception": false,
     "start_time": "2020-09-04T19:04:15.934565",
     "status": "completed"
    },
    "tags": []
   },
   "outputs": [],
   "source": [
    "#Leo datos a estimar\n",
    "dataset_pred <- fread(karchivo_predecir)\n",
    "\n",
    "\n",
    "#Genero la clase\n",
    "#dataset_pred[,(kobjetivo) := as.integer(dataset[,..kclase_nomcampo] == kclase_valor_positivo)]\n",
    "\n",
    "#Limpio campos a borrar\n",
    "#dataset_pred[ ,  (kcampos_a_borrar) := NULL    ] \n",
    "\n",
    "prediccion  <- predict( modelo, dataset_pred ) #aplico el modelo"
   ]
  },
  {
   "cell_type": "code",
   "execution_count": 33,
   "metadata": {
    "papermill": {
     "duration": 2.186041,
     "end_time": "2020-09-04T19:04:18.120606",
     "exception": false,
     "start_time": "2020-09-04T19:04:15.934565",
     "status": "completed"
    },
    "tags": []
   },
   "outputs": [],
   "source": [
    "dataset_pred[ , prob_baja := prediccion]\n",
    "dataset_pred[ , Predicted  := as.numeric(prob_baja > 0.025) ]\n",
    "\n",
    "entrega  <- dataset_pred[   , list(numero_de_cliente, Predicted) ] #genero la salida\n",
    "\n",
    "#genero el archivo para Kaggle\n",
    "fwrite( entrega, file=\"./salida_rpart.csv\", sep=\",\" )"
   ]
  },
  {
   "cell_type": "code",
   "execution_count": null,
   "metadata": {
    "papermill": {
     "duration": 0.195911,
     "end_time": "2020-09-04T19:04:21.274063",
     "exception": false,
     "start_time": "2020-09-04T19:04:21.078152",
     "status": "completed"
    },
    "tags": []
   },
   "outputs": [],
   "source": []
  }
 ],
 "metadata": {
  "kernelspec": {
   "display_name": "R",
   "language": "R",
   "name": "ir"
  },
  "language_info": {
   "codemirror_mode": "r",
   "file_extension": ".r",
   "mimetype": "text/x-r-source",
   "name": "R",
   "pygments_lexer": "r",
   "version": "3.6.1"
  },
  "papermill": {
   "duration": 216.919775,
   "end_time": "2020-09-04T19:04:21.680072",
   "environment_variables": {},
   "exception": null,
   "input_path": "__notebook__.ipynb",
   "output_path": "__notebook__.ipynb",
   "parameters": {},
   "start_time": "2020-09-04T19:00:44.760297",
   "version": "2.1.2"
  }
 },
 "nbformat": 4,
 "nbformat_minor": 4
}
