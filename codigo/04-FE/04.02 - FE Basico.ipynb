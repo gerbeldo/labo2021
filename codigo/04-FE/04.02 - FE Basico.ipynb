{
 "cells": [
  {
   "cell_type": "code",
   "execution_count": 1,
   "id": "1069511e-1627-45a0-b841-d5c742f4dbe4",
   "metadata": {},
   "outputs": [
    {
     "data": {
      "text/html": [
       "<table class=\"dataframe\">\n",
       "<caption>A matrix: 2 × 6 of type dbl</caption>\n",
       "<thead>\n",
       "\t<tr><th></th><th scope=col>used</th><th scope=col>(Mb)</th><th scope=col>gc trigger</th><th scope=col>(Mb)</th><th scope=col>max used</th><th scope=col>(Mb)</th></tr>\n",
       "</thead>\n",
       "<tbody>\n",
       "\t<tr><th scope=row>Ncells</th><td>493409</td><td>26.4</td><td>1088850</td><td>58.2</td><td> 641780</td><td>34.3</td></tr>\n",
       "\t<tr><th scope=row>Vcells</th><td>947771</td><td> 7.3</td><td>8388608</td><td>64.0</td><td>1753993</td><td>13.4</td></tr>\n",
       "</tbody>\n",
       "</table>\n"
      ],
      "text/latex": [
       "A matrix: 2 × 6 of type dbl\n",
       "\\begin{tabular}{r|llllll}\n",
       "  & used & (Mb) & gc trigger & (Mb) & max used & (Mb)\\\\\n",
       "\\hline\n",
       "\tNcells & 493409 & 26.4 & 1088850 & 58.2 &  641780 & 34.3\\\\\n",
       "\tVcells & 947771 &  7.3 & 8388608 & 64.0 & 1753993 & 13.4\\\\\n",
       "\\end{tabular}\n"
      ],
      "text/markdown": [
       "\n",
       "A matrix: 2 × 6 of type dbl\n",
       "\n",
       "| <!--/--> | used | (Mb) | gc trigger | (Mb) | max used | (Mb) |\n",
       "|---|---|---|---|---|---|---|\n",
       "| Ncells | 493409 | 26.4 | 1088850 | 58.2 |  641780 | 34.3 |\n",
       "| Vcells | 947771 |  7.3 | 8388608 | 64.0 | 1753993 | 13.4 |\n",
       "\n"
      ],
      "text/plain": [
       "       used   (Mb) gc trigger (Mb) max used (Mb)\n",
       "Ncells 493409 26.4 1088850    58.2  641780  34.3\n",
       "Vcells 947771  7.3 8388608    64.0 1753993  13.4"
      ]
     },
     "metadata": {},
     "output_type": "display_data"
    },
    {
     "name": "stderr",
     "output_type": "stream",
     "text": [
      "Loading required package: data.table\n",
      "\n",
      "Warning message:\n",
      "“package ‘data.table’ was built under R version 3.6.3”\n",
      "Warning message in dir.create(\"./datasets/\"):\n",
      "“'./datasets' already exists”\n"
     ]
    }
   ],
   "source": [
    "#Feature Engineering\n",
    "#creo nuevas variables dentro del mismo mes\n",
    "#Condimentar a gusto con nuevas variables\n",
    "\n",
    "#limpio la memoria\n",
    "rm( list=ls() )\n",
    "gc()\n",
    "\n",
    "require(\"data.table\")\n",
    "\n",
    "\n",
    "\n",
    "#Establezco el Working Directory\n",
    "setwd( \"~/buckets/b1/crudo\" )\n",
    "\n",
    "\n",
    "EnriquecerDataset <- function( dataset , arch_destino )\n",
    "{\n",
    "  columnas_originales <-  copy(colnames( dataset ))\n",
    "\n",
    "  #INICIO de la seccion donde se deben hacer cambios con variables nuevas\n",
    "  #se crean los nuevos campos para MasterCard  y Visa, teniendo en cuenta los NA's\n",
    "  #varias formas de combinar Visa_status y Master_status\n",
    "  dataset[ , mv_status01       := pmax( Master_status,  Visa_status, na.rm = TRUE) ]\n",
    "  dataset[ , mv_status02       := Master_status +  Visa_status ]\n",
    "  dataset[ , mv_status03       := pmax( ifelse( is.na(Master_status), 10, Master_status) , ifelse( is.na(Visa_status), 10, Visa_status) ) ]\n",
    "  dataset[ , mv_status04       := ifelse( is.na(Master_status), 10, Master_status)  +  ifelse( is.na(Visa_status), 10, Visa_status)  ]\n",
    "  dataset[ , mv_status05       := ifelse( is.na(Master_status), 10, Master_status)  +  100*ifelse( is.na(Visa_status), 10, Visa_status)  ]\n",
    "\n",
    "  dataset[ , mv_status06       := ifelse( is.na(Visa_status), \n",
    "                                          ifelse( is.na(Master_status), 10, Master_status), \n",
    "                                          Visa_status)  ]\n",
    "\n",
    "  dataset[ , mv_status07       := ifelse( is.na(Master_status), \n",
    "                                          ifelse( is.na(Visa_status), 10, Visa_status), \n",
    "                                          Master_status)  ]\n",
    "\n",
    "\n",
    "    \n",
    "  #combino MasterCard y Visa\n",
    "  dataset[ , mv_mfinanciacion_limite := rowSums( cbind( Master_mfinanciacion_limite,  Visa_mfinanciacion_limite) , na.rm=TRUE ) ]\n",
    "\n",
    "  dataset[ , mv_Fvencimiento         := pmin( Master_Fvencimiento, Visa_Fvencimiento, na.rm = TRUE) ]\n",
    "  dataset[ , mv_Finiciomora          := pmin( Master_Finiciomora, Visa_Finiciomora, na.rm = TRUE) ]\n",
    "  dataset[ , mv_msaldototal          := rowSums( cbind( Master_msaldototal,  Visa_msaldototal) , na.rm=TRUE ) ]\n",
    "  dataset[ , mv_mconsumospesos       := rowSums( cbind( Master_mconsumospesos,  Visa_mconsumospesos) , na.rm=TRUE ) ]\n",
    "  dataset[ , mv_mconsumosdolares     := rowSums( cbind( Master_mconsumosdolares,  Visa_mconsumosdolares) , na.rm=TRUE ) ]\n",
    "  dataset[ , mv_mlimitecompra        := rowSums( cbind( Master_mlimitecompra,  Visa_mlimitecompra) , na.rm=TRUE ) ]\n",
    "  dataset[ , mv_mpagado              := rowSums( cbind( Master_mpagado,  Visa_mpagado) , na.rm=TRUE ) ]\n",
    "  dataset[ , mv_cconsumos            := rowSums( cbind( Master_cconsumos,  Visa_cconsumos) , na.rm=TRUE ) ]\n",
    "  dataset[ , mv_mpagominimo          := rowSums( cbind( Master_mpagominimo,  Visa_mpagominimo) , na.rm=TRUE ) ]\n",
    "\n",
    "  columnas_extendidas <-  copy( setdiff(  colnames(dataset), columnas_originales ) )\n",
    "\n",
    "  #grabo con nombre extendido\n",
    "  fwrite( dataset,\n",
    "          file=arch_destino,\n",
    "          sep= \",\" )\n",
    "}\n",
    "#------------------------------------------------------------------------------\n",
    "\n",
    "dir.create( \"./datasets/\" )\n",
    "\n",
    "\n",
    "#lectura rapida del dataset  usando fread  de la libreria  data.table\n",
    "dataset1  <- fread(\"./datasetsOri/paquete_premium_202011.csv\")\n",
    "dataset2  <- fread(\"./datasetsOri/paquete_premium_202101.csv\")\n",
    "\n",
    "EnriquecerDataset( dataset1, \"./datasets/paquete_premium_202011_02_ext.csv\" )\n",
    "EnriquecerDataset( dataset2, \"./datasets/paquete_premium_202101_02_ext.csv\" )\n",
    "\n",
    "quit( save=\"no\")\n"
   ]
  },
  {
   "cell_type": "code",
   "execution_count": null,
   "id": "9aaeab77-ea6d-468a-8948-177d6c1b23cd",
   "metadata": {},
   "outputs": [],
   "source": []
  }
 ],
 "metadata": {
  "kernelspec": {
   "display_name": "R",
   "language": "R",
   "name": "ir"
  },
  "language_info": {
   "codemirror_mode": "r",
   "file_extension": ".r",
   "mimetype": "text/x-r-source",
   "name": "R",
   "pygments_lexer": "r",
   "version": "3.6.1"
  }
 },
 "nbformat": 4,
 "nbformat_minor": 5
}
