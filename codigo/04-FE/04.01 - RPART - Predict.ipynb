{
 "cells": [
  {
   "cell_type": "code",
   "execution_count": 1,
   "id": "2092837f",
   "metadata": {},
   "outputs": [
    {
     "data": {
      "text/html": [
       "<table class=\"dataframe\">\n",
       "<caption>A matrix: 2 × 6 of type dbl</caption>\n",
       "<thead>\n",
       "\t<tr><th></th><th scope=col>used</th><th scope=col>(Mb)</th><th scope=col>gc trigger</th><th scope=col>(Mb)</th><th scope=col>max used</th><th scope=col>(Mb)</th></tr>\n",
       "</thead>\n",
       "<tbody>\n",
       "\t<tr><th scope=row>Ncells</th><td>492727</td><td>26.4</td><td>1086901</td><td>58.1</td><td> 641780</td><td>34.3</td></tr>\n",
       "\t<tr><th scope=row>Vcells</th><td>941490</td><td> 7.2</td><td>8388608</td><td>64.0</td><td>1753993</td><td>13.4</td></tr>\n",
       "</tbody>\n",
       "</table>\n"
      ],
      "text/latex": [
       "A matrix: 2 × 6 of type dbl\n",
       "\\begin{tabular}{r|llllll}\n",
       "  & used & (Mb) & gc trigger & (Mb) & max used & (Mb)\\\\\n",
       "\\hline\n",
       "\tNcells & 492727 & 26.4 & 1086901 & 58.1 &  641780 & 34.3\\\\\n",
       "\tVcells & 941490 &  7.2 & 8388608 & 64.0 & 1753993 & 13.4\\\\\n",
       "\\end{tabular}\n"
      ],
      "text/markdown": [
       "\n",
       "A matrix: 2 × 6 of type dbl\n",
       "\n",
       "| <!--/--> | used | (Mb) | gc trigger | (Mb) | max used | (Mb) |\n",
       "|---|---|---|---|---|---|---|\n",
       "| Ncells | 492727 | 26.4 | 1086901 | 58.1 |  641780 | 34.3 |\n",
       "| Vcells | 941490 |  7.2 | 8388608 | 64.0 | 1753993 | 13.4 |\n",
       "\n"
      ],
      "text/plain": [
       "       used   (Mb) gc trigger (Mb) max used (Mb)\n",
       "Ncells 492727 26.4 1086901    58.1  641780  34.3\n",
       "Vcells 941490  7.2 8388608    64.0 1753993  13.4"
      ]
     },
     "metadata": {},
     "output_type": "display_data"
    },
    {
     "name": "stderr",
     "output_type": "stream",
     "text": [
      "Warning message:\n",
      "“package ‘data.table’ was built under R version 3.6.3”\n",
      "Warning message:\n",
      "“package ‘rlist’ was built under R version 3.6.3”\n",
      "Warning message:\n",
      "“package ‘yaml’ was built under R version 3.6.3”\n",
      "Warning message:\n",
      "“package ‘rpart’ was built under R version 3.6.3”\n",
      "Warning message:\n",
      "“package ‘DiceKriging’ was built under R version 3.6.3”\n",
      "Warning message:\n",
      "“package ‘mlrMBO’ was built under R version 3.6.3”\n",
      "Loading required package: mlr\n",
      "\n",
      "Warning message:\n",
      "“package ‘mlr’ was built under R version 3.6.3”\n",
      "Loading required package: ParamHelpers\n",
      "\n",
      "Warning message:\n",
      "“package ‘ParamHelpers’ was built under R version 3.6.3”\n",
      "Warning message: 'mlr' is in 'maintenance-only' mode since July 2019.\n",
      "Future development will only happen in 'mlr3'\n",
      "(<https://mlr3.mlr-org.com>). Due to the focus on 'mlr3' there might be\n",
      "uncaught bugs meanwhile in {mlr} - please consider switching.\n",
      "\n",
      "Loading required package: smoof\n",
      "\n",
      "Warning message:\n",
      "“package ‘smoof’ was built under R version 3.6.3”\n",
      "Loading required package: checkmate\n",
      "\n",
      "Warning message:\n",
      "“package ‘checkmate’ was built under R version 3.6.3”\n",
      "\n",
      "Attaching package: ‘checkmate’\n",
      "\n",
      "\n",
      "The following object is masked from ‘package:DiceKriging’:\n",
      "\n",
      "    checkNames\n",
      "\n",
      "\n",
      "Warning message:\n",
      "“no DISPLAY variable so Tk is not available”\n"
     ]
    }
   ],
   "source": [
    "#limpio la memoria\n",
    "rm( list=ls() )  #remove all objects\n",
    "gc()             #garbage collection\n",
    "\n",
    "library(\"data.table\")\n",
    "library(\"rlist\")\n",
    "library(\"yaml\")\n",
    "\n",
    "library(\"rpart\")\n",
    "library(\"parallel\")\n",
    "\n",
    "#paquetes necesarios para la Bayesian Optimization\n",
    "library(\"DiceKriging\")\n",
    "library(\"mlrMBO\")"
   ]
  },
  {
   "cell_type": "code",
   "execution_count": 2,
   "id": "cdbf9f90",
   "metadata": {},
   "outputs": [],
   "source": [
    "#para poder usarlo en la PC y en la nube\n",
    "switch ( Sys.info()[['sysname']],\n",
    "         Windows = { directory.root   <-  \"M:\\\\\" },   #Microsoft Windows\n",
    "         Darwin  = { directory.root   <-  \"~/dm/\" },  #Apple MAC\n",
    "         Linux   = { directory.root   <-  \"~/buckets/b1/crudo/\" }  #Entorno Google Cloud\n",
    "       )\n",
    "#defino la carpeta donde trabajo\n",
    "setwd( directory.root )"
   ]
  },
  {
   "cell_type": "code",
   "execution_count": 3,
   "id": "0b489a50",
   "metadata": {},
   "outputs": [],
   "source": [
    "#Defino el experimento que voy a usar\n",
    "kexperimento  <- 1002\n",
    "\n",
    "kscript           <- \"04.01 - RPART - Predict\"\n",
    "karch_generacion  <- \"./datasetsOri/paquete_premium_202011.csv\"\n",
    "karch_aplicacion  <- \"./datasetsOri/paquete_premium_202101.csv\"\n",
    "\n",
    "#Ubicacion de la busqueda de hiperparametros\n",
    "klog        <- paste0(\"./work/E\",  kexperimento, \"_rpart_log.txt\" )\n",
    "kkaggle     <- paste0(\"./kaggle/E\",kexperimento, \"_rpart_kaggle_\" )\n",
    "\n",
    "ksemilla_azar  <- 102191\n",
    "\n",
    "#Grabo la salida en la iteracion 99999\n",
    "GLOBAL_iteracion <- 99999"
   ]
  },
  {
   "cell_type": "code",
   "execution_count": 4,
   "id": "154d6488-50f2-4787-910c-6e346294179f",
   "metadata": {},
   "outputs": [],
   "source": [
    "#Leo hiperparametros\n",
    "hiperparams <- fread(klog)\n",
    "\n"
   ]
  },
  {
   "cell_type": "code",
   "execution_count": 5,
   "id": "9667c37b-5b51-4356-9b5c-24da3df72bec",
   "metadata": {},
   "outputs": [
    {
     "data": {
      "text/html": [
       "<table class=\"dataframe\">\n",
       "<caption>A data.table: 3 × 7</caption>\n",
       "<thead>\n",
       "\t<tr><th scope=col>fecha</th><th scope=col>cp</th><th scope=col>minsplit</th><th scope=col>minbucket</th><th scope=col>maxdepth</th><th scope=col>xval_folds</th><th scope=col>ganancia</th></tr>\n",
       "\t<tr><th scope=col>&lt;chr&gt;</th><th scope=col>&lt;dbl&gt;</th><th scope=col>&lt;int&gt;</th><th scope=col>&lt;int&gt;</th><th scope=col>&lt;int&gt;</th><th scope=col>&lt;int&gt;</th><th scope=col>&lt;int&gt;</th></tr>\n",
       "</thead>\n",
       "<tbody>\n",
       "\t<tr><td>20210904 011747</td><td>-0.1841972</td><td>1512</td><td>752</td><td>19</td><td>5</td><td>9292500</td></tr>\n",
       "\t<tr><td>20210904 011629</td><td>-0.1702605</td><td>1485</td><td>738</td><td>11</td><td>5</td><td>9252500</td></tr>\n",
       "\t<tr><td>20210904 012644</td><td>-0.6290823</td><td>1533</td><td>766</td><td>14</td><td>5</td><td>9233750</td></tr>\n",
       "</tbody>\n",
       "</table>\n"
      ],
      "text/latex": [
       "A data.table: 3 × 7\n",
       "\\begin{tabular}{lllllll}\n",
       " fecha & cp & minsplit & minbucket & maxdepth & xval\\_folds & ganancia\\\\\n",
       " <chr> & <dbl> & <int> & <int> & <int> & <int> & <int>\\\\\n",
       "\\hline\n",
       "\t 20210904 011747 & -0.1841972 & 1512 & 752 & 19 & 5 & 9292500\\\\\n",
       "\t 20210904 011629 & -0.1702605 & 1485 & 738 & 11 & 5 & 9252500\\\\\n",
       "\t 20210904 012644 & -0.6290823 & 1533 & 766 & 14 & 5 & 9233750\\\\\n",
       "\\end{tabular}\n"
      ],
      "text/markdown": [
       "\n",
       "A data.table: 3 × 7\n",
       "\n",
       "| fecha &lt;chr&gt; | cp &lt;dbl&gt; | minsplit &lt;int&gt; | minbucket &lt;int&gt; | maxdepth &lt;int&gt; | xval_folds &lt;int&gt; | ganancia &lt;int&gt; |\n",
       "|---|---|---|---|---|---|---|\n",
       "| 20210904 011747 | -0.1841972 | 1512 | 752 | 19 | 5 | 9292500 |\n",
       "| 20210904 011629 | -0.1702605 | 1485 | 738 | 11 | 5 | 9252500 |\n",
       "| 20210904 012644 | -0.6290823 | 1533 | 766 | 14 | 5 | 9233750 |\n",
       "\n"
      ],
      "text/plain": [
       "  fecha           cp         minsplit minbucket maxdepth xval_folds ganancia\n",
       "1 20210904 011747 -0.1841972 1512     752       19       5          9292500 \n",
       "2 20210904 011629 -0.1702605 1485     738       11       5          9252500 \n",
       "3 20210904 012644 -0.6290823 1533     766       14       5          9233750 "
      ]
     },
     "metadata": {},
     "output_type": "display_data"
    }
   ],
   "source": [
    "#Muestro los mejores 3 resultados\n",
    "hiperparams[order(-ganancia)][1:3]"
   ]
  },
  {
   "cell_type": "code",
   "execution_count": 6,
   "id": "85f83f5a-8da3-4bb6-a129-348e0e621c55",
   "metadata": {
    "tags": []
   },
   "outputs": [],
   "source": [
    "#Selecciono el primero\n",
    "opt_param = hiperparams[order(-ganancia)][1]"
   ]
  },
  {
   "cell_type": "code",
   "execution_count": 7,
   "id": "91ac737c-51de-41cc-969b-cee675a6bdf5",
   "metadata": {},
   "outputs": [],
   "source": [
    "#ME quedo solo con los parametros para pasarle al algoritmo\n",
    "opt_param[,c('fecha','xval_folds','ganancia'):=NULL]"
   ]
  },
  {
   "cell_type": "code",
   "execution_count": 8,
   "id": "483ab664-309c-494f-b914-b00c2d8287f2",
   "metadata": {},
   "outputs": [
    {
     "data": {
      "text/html": [
       "<table class=\"dataframe\">\n",
       "<caption>A data.table: 1 × 4</caption>\n",
       "<thead>\n",
       "\t<tr><th scope=col>cp</th><th scope=col>minsplit</th><th scope=col>minbucket</th><th scope=col>maxdepth</th></tr>\n",
       "\t<tr><th scope=col>&lt;dbl&gt;</th><th scope=col>&lt;int&gt;</th><th scope=col>&lt;int&gt;</th><th scope=col>&lt;int&gt;</th></tr>\n",
       "</thead>\n",
       "<tbody>\n",
       "\t<tr><td>-0.1841972</td><td>1512</td><td>752</td><td>19</td></tr>\n",
       "</tbody>\n",
       "</table>\n"
      ],
      "text/latex": [
       "A data.table: 1 × 4\n",
       "\\begin{tabular}{llll}\n",
       " cp & minsplit & minbucket & maxdepth\\\\\n",
       " <dbl> & <int> & <int> & <int>\\\\\n",
       "\\hline\n",
       "\t -0.1841972 & 1512 & 752 & 19\\\\\n",
       "\\end{tabular}\n"
      ],
      "text/markdown": [
       "\n",
       "A data.table: 1 × 4\n",
       "\n",
       "| cp &lt;dbl&gt; | minsplit &lt;int&gt; | minbucket &lt;int&gt; | maxdepth &lt;int&gt; |\n",
       "|---|---|---|---|\n",
       "| -0.1841972 | 1512 | 752 | 19 |\n",
       "\n"
      ],
      "text/plain": [
       "  cp         minsplit minbucket maxdepth\n",
       "1 -0.1841972 1512     752       19      "
      ]
     },
     "metadata": {},
     "output_type": "display_data"
    }
   ],
   "source": [
    "opt_param"
   ]
  },
  {
   "cell_type": "code",
   "execution_count": 9,
   "id": "3250b4f6-1fae-4313-8afb-7c7d7944b762",
   "metadata": {},
   "outputs": [],
   "source": [
    "#cargo los datasets\n",
    "dataset  <- fread(karch_generacion)   #donde entreno\n",
    "dapply  <- fread(karch_aplicacion)    #donde aplico el modelo"
   ]
  },
  {
   "cell_type": "code",
   "execution_count": null,
   "id": "50705b17-ff56-4a5d-b022-2ef52c6f78e0",
   "metadata": {},
   "outputs": [],
   "source": []
  },
  {
   "cell_type": "code",
   "execution_count": 10,
   "id": "2c5a25e2-6158-4ad2-8722-53fc25d9d306",
   "metadata": {},
   "outputs": [],
   "source": [
    "#Ejemplo FE\n",
    "#dataset[ , mv_mconsumototal        := rowSums( cbind( Master_mconsumototal,  Visa_mconsumototal) , na.rm=TRUE ) ]\n",
    "#dataset[ , m_cacc        := rowSums( cbind( mcaja_ahorro,  mcuenta_corriente) , na.rm=TRUE ) ]\n",
    "#dataset[ , mvr_cacc       := mv_mconsumototal  / m_cacc ]\n",
    "\n",
    "#dapply[ , mv_mconsumototal        := rowSums( cbind( Master_mconsumototal,  Visa_mconsumototal) , na.rm=TRUE ) ]\n",
    "#dapply[ , m_cacc        := rowSums( cbind( mcaja_ahorro,  mcuenta_corriente) , na.rm=TRUE ) ]\n",
    "#dapply[ , mvr_cacc       := mv_mconsumototal  / m_cacc ]\n",
    "\n"
   ]
  },
  {
   "cell_type": "code",
   "execution_count": 11,
   "id": "2cfe76ef-299a-4699-8cb0-3b6f4d5c5be8",
   "metadata": {},
   "outputs": [],
   "source": [
    "#------------------------------------------------------------------------------\n",
    "#funcion para particionar, es la que Andres reemplaza con caret\n",
    "particionar  <- function( data, division, agrupa=\"\", campo=\"fold\", start=1, seed=NA )\n",
    "{\n",
    "  if( !is.na( seed)  )   set.seed( seed )\n",
    "\n",
    "  bloque  <- unlist( mapply(  function(x,y) { rep( y, x ) }, division, seq( from=start, length.out=length(division) )  ) )\n",
    "\n",
    "  data[ , (campo) :=  sample( rep( bloque, ceiling(.N/length(bloque))) )[1:.N],\n",
    "           by= agrupa ]\n",
    "}\n",
    "#------------------------------------------------------------------------------\n",
    "\n",
    "ArbolesCrossValidation  <- function( data, param, qfolds, pagrupa, semilla )\n",
    "{\n",
    "  divi  <- rep( 1, qfolds )\n",
    "  particionar( data, divi, seed=semilla, agrupa=pagrupa )\n",
    "\n",
    "  ganancias  <- mcmapply( ArbolSimple, \n",
    "                          seq(qfolds), # 1 2 3 4 5  \n",
    "                          MoreArgs= list( data, param), \n",
    "                          SIMPLIFY= FALSE,\n",
    "                          mc.cores= 5 )   #se puede subir a 5 si posee Linux o Mac OS\n",
    "\n",
    "  data[ , fold := NULL ]\n",
    "  #devuelvo la primer ganancia y el promedio\n",
    "  return( mean( unlist( ganancias )) *  qfolds )   #aqui normalizo la ganancia\n",
    "}\n",
    "\n",
    "#------------------------------------------------------------------------------\n",
    "#esta funcion solo puede recibir los parametros que se estan optimizando\n",
    "#el resto de los parametros se pasan como variables globales\n",
    "\n",
    "EstimarGanancia  <- function( x )\n",
    "{\n",
    "\n",
    "   xval_folds  <- 5\n",
    "   ganancia  <-  ArbolesCrossValidation( dataset, param=x, qfolds= xval_folds, pagrupa=\"clase_ternaria\", semilla=ksemilla_azar )\n",
    "\n",
    "    \n",
    "     modelo  <- rpart(\"clase_ternaria ~ .\",\n",
    "                      data= dataset,\n",
    "                      xval= 0,\n",
    "                      control= x )\n",
    "\n",
    "     #genero el vector con la prediccion, la probabilidad de ser positivo\n",
    "     prediccion  <- predict( modelo, dapply)\n",
    "\n",
    "     prob_baja2  <- prediccion[, \"BAJA+2\"]\n",
    "     Predicted   <- ifelse( prob_baja2 > 0.025, 1, 0 )\n",
    "\n",
    "     entrega  <-  as.data.table( list( \"numero_de_cliente\"=dapply$numero_de_cliente, \"Predicted\"=Predicted)  )\n",
    "\n",
    "     #genero el archivo para Kaggle\n",
    "     fwrite( entrega, \n",
    "             file= paste0(kkaggle, GLOBAL_iteracion, \".csv\" ),\n",
    "             sep=  \",\" )\n",
    "   return( ganancia )\n",
    "}\n",
    "#------------------------------------------------------------------------------\n",
    "\n",
    "ArbolSimple  <- function( fold_test, data, param )\n",
    "{\n",
    "  #genero el modelo\n",
    "  modelo  <- rpart(\"clase_ternaria ~ .\", \n",
    "                   data= data[ fold != fold_test, ],\n",
    "                   xval= 0,\n",
    "                   control= param )\n",
    "\n",
    "  #aplico el modelo a los datos de testing, fold==2\n",
    "  prediccion  <- predict( modelo, data[ fold==fold_test, ], type = \"prob\")\n",
    "\n",
    "  prob_baja2  <- prediccion[, \"BAJA+2\"]\n",
    "\n",
    "  ganancia_testing  <- sum(  data[ fold==fold_test ][ prob_baja2 >0.025,  ifelse( clase_ternaria==\"BAJA+2\", 48750, -1250 ) ] )\n",
    "\n",
    "  return( ganancia_testing )\n",
    "}"
   ]
  },
  {
   "cell_type": "code",
   "execution_count": 12,
   "id": "692eba3d-4aee-42f7-8423-a530c649f3b9",
   "metadata": {},
   "outputs": [
    {
     "data": {
      "text/html": [
       "9292500"
      ],
      "text/latex": [
       "9292500"
      ],
      "text/markdown": [
       "9292500"
      ],
      "text/plain": [
       "[1] 9292500"
      ]
     },
     "metadata": {},
     "output_type": "display_data"
    }
   ],
   "source": [
    "#Estimo la ganancia\n",
    "EstimarGanancia( opt_param )"
   ]
  },
  {
   "cell_type": "code",
   "execution_count": 13,
   "id": "e5cb9c3e-0b12-457a-b720-77cb10c6c30f",
   "metadata": {},
   "outputs": [
    {
     "data": {
      "image/png": "[encoded data removed]",
      "text/plain": [
       "plot without title"
      ]
     },
     "metadata": {
      "image/png": {
       "height": 420,
       "width": 420
      }
     },
     "output_type": "display_data"
    }
   ],
   "source": [
    "#Reentreno solo para ver la importancia de variables\n",
    "modelo  <- rpart(\"clase_ternaria ~ .\", \n",
    "                   data= dataset,\n",
    "                   xval= 0,\n",
    "                   control= opt_param )\n",
    "\n",
    "#Grafico\n",
    "barplot(modelo$variable[1:15],las=2)\n",
    "\n",
    "#Grabo en archivo la importancia\n",
    "fwrite(data.table( names = names(modelo$variable.importance), importance = modelo$variable.importance),'./work/importance.csv')"
   ]
  }
 ],
 "metadata": {
  "kernelspec": {
   "display_name": "R",
   "language": "R",
   "name": "ir"
  },
  "language_info": {
   "codemirror_mode": "r",
   "file_extension": ".r",
   "mimetype": "text/x-r-source",
   "name": "R",
   "pygments_lexer": "r",
   "version": "3.6.1"
  }
 },
 "nbformat": 4,
 "nbformat_minor": 5
}
