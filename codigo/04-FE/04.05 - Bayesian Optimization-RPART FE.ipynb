{
 "cells": [
  {
   "cell_type": "code",
   "execution_count": 1,
   "id": "2092837f",
   "metadata": {},
   "outputs": [
    {
     "data": {
      "text/html": [
       "<table class=\"dataframe\">\n",
       "<caption>A matrix: 2 × 6 of type dbl</caption>\n",
       "<thead>\n",
       "\t<tr><th></th><th scope=col>used</th><th scope=col>(Mb)</th><th scope=col>gc trigger</th><th scope=col>(Mb)</th><th scope=col>max used</th><th scope=col>(Mb)</th></tr>\n",
       "</thead>\n",
       "<tbody>\n",
       "\t<tr><th scope=row>Ncells</th><td>492757</td><td>26.4</td><td>1086987</td><td>58.1</td><td> 641780</td><td>34.3</td></tr>\n",
       "\t<tr><th scope=row>Vcells</th><td>941618</td><td> 7.2</td><td>8388608</td><td>64.0</td><td>1753993</td><td>13.4</td></tr>\n",
       "</tbody>\n",
       "</table>\n"
      ],
      "text/latex": [
       "A matrix: 2 × 6 of type dbl\n",
       "\\begin{tabular}{r|llllll}\n",
       "  & used & (Mb) & gc trigger & (Mb) & max used & (Mb)\\\\\n",
       "\\hline\n",
       "\tNcells & 492757 & 26.4 & 1086987 & 58.1 &  641780 & 34.3\\\\\n",
       "\tVcells & 941618 &  7.2 & 8388608 & 64.0 & 1753993 & 13.4\\\\\n",
       "\\end{tabular}\n"
      ],
      "text/markdown": [
       "\n",
       "A matrix: 2 × 6 of type dbl\n",
       "\n",
       "| <!--/--> | used | (Mb) | gc trigger | (Mb) | max used | (Mb) |\n",
       "|---|---|---|---|---|---|---|\n",
       "| Ncells | 492757 | 26.4 | 1086987 | 58.1 |  641780 | 34.3 |\n",
       "| Vcells | 941618 |  7.2 | 8388608 | 64.0 | 1753993 | 13.4 |\n",
       "\n"
      ],
      "text/plain": [
       "       used   (Mb) gc trigger (Mb) max used (Mb)\n",
       "Ncells 492757 26.4 1086987    58.1  641780  34.3\n",
       "Vcells 941618  7.2 8388608    64.0 1753993  13.4"
      ]
     },
     "metadata": {},
     "output_type": "display_data"
    },
    {
     "name": "stderr",
     "output_type": "stream",
     "text": [
      "Warning message:\n",
      "“package ‘data.table’ was built under R version 3.6.3”\n",
      "Warning message:\n",
      "“package ‘rlist’ was built under R version 3.6.3”\n",
      "Warning message:\n",
      "“package ‘yaml’ was built under R version 3.6.3”\n",
      "Warning message:\n",
      "“package ‘rpart’ was built under R version 3.6.3”\n",
      "Warning message:\n",
      "“package ‘DiceKriging’ was built under R version 3.6.3”\n",
      "Warning message:\n",
      "“package ‘mlrMBO’ was built under R version 3.6.3”\n",
      "Loading required package: mlr\n",
      "\n",
      "Warning message:\n",
      "“package ‘mlr’ was built under R version 3.6.3”\n",
      "Loading required package: ParamHelpers\n",
      "\n",
      "Warning message:\n",
      "“package ‘ParamHelpers’ was built under R version 3.6.3”\n",
      "Warning message: 'mlr' is in 'maintenance-only' mode since July 2019.\n",
      "Future development will only happen in 'mlr3'\n",
      "(<https://mlr3.mlr-org.com>). Due to the focus on 'mlr3' there might be\n",
      "uncaught bugs meanwhile in {mlr} - please consider switching.\n",
      "\n",
      "Loading required package: smoof\n",
      "\n",
      "Warning message:\n",
      "“package ‘smoof’ was built under R version 3.6.3”\n",
      "Loading required package: checkmate\n",
      "\n",
      "Warning message:\n",
      "“package ‘checkmate’ was built under R version 3.6.3”\n",
      "\n",
      "Attaching package: ‘checkmate’\n",
      "\n",
      "\n",
      "The following object is masked from ‘package:DiceKriging’:\n",
      "\n",
      "    checkNames\n",
      "\n",
      "\n",
      "Warning message:\n",
      "“no DISPLAY variable so Tk is not available”\n"
     ]
    }
   ],
   "source": [
    "#Optimizacion Bayesiana de hiperparametros de  rpart\n",
    "#funciona automaticamente con EXPERIMENTOS\n",
    "#va generando incrementalmente salidas para kaggle\n",
    "\n",
    "#limpio la memoria\n",
    "rm( list=ls() )  #remove all objects\n",
    "gc()             #garbage collection\n",
    "\n",
    "library(\"data.table\")\n",
    "library(\"rlist\")\n",
    "library(\"yaml\")\n",
    "\n",
    "library(\"rpart\")\n",
    "library(\"parallel\")\n",
    "\n",
    "#paquetes necesarios para la Bayesian Optimization\n",
    "library(\"DiceKriging\")\n",
    "library(\"mlrMBO\")"
   ]
  },
  {
   "cell_type": "code",
   "execution_count": 2,
   "id": "cdbf9f90",
   "metadata": {},
   "outputs": [],
   "source": [
    "#para poder usarlo en la PC y en la nube\n",
    "switch ( Sys.info()[['sysname']],\n",
    "         Windows = { directory.root   <-  \"M:\\\\\" },   #Microsoft Windows\n",
    "         Darwin  = { directory.root   <-  \"~/dm/\" },  #Apple MAC\n",
    "         Linux   = { directory.root   <-  \"~/buckets/b1/crudo/\" }  #Entorno Google Cloud\n",
    "       )\n",
    "#defino la carpeta donde trabajo\n",
    "setwd( directory.root )"
   ]
  },
  {
   "cell_type": "code",
   "execution_count": 3,
   "id": "0b489a50",
   "metadata": {},
   "outputs": [],
   "source": [
    "kexperimento  <- NA   #NA si se corre la primera vez, un valor concreto si es para continuar procesando\n",
    "\n",
    "kscript           <- \"04.05 - BO Rpart FE\"\n",
    "karch_generacion  <- \"./datasets/paquete_premium_202011_ext.csv\"\n",
    "karch_aplicacion  <- \"./datasets/paquete_premium_202101_ext.csv\"\n",
    "kBO_iter    <-  200   #cantidad de iteraciones de la Optimizacion Bayesiana\n",
    "\n",
    "hs  <- makeParamSet(\n",
    "          makeNumericParam(\"cp\"       , lower= -1   , upper=    0.1),\n",
    "          makeIntegerParam(\"minsplit\" , lower=  1L  , upper= 8000L),  #la letra L al final significa ENTERO\n",
    "          makeIntegerParam(\"minbucket\", lower=  1L  , upper= 2000L),\n",
    "          makeIntegerParam(\"maxdepth\" , lower=  3L  , upper=   20L),\n",
    "          forbidden = quote( minbucket > 0.5*minsplit ) )\n",
    "\n",
    "\n",
    "ksemilla_azar  <- 102191"
   ]
  },
  {
   "cell_type": "code",
   "execution_count": 4,
   "id": "e7aaf742",
   "metadata": {},
   "outputs": [],
   "source": [
    "#------------------------------------------------------------------------------\n",
    "#Funcion que lleva el registro de los experimentos\n",
    "\n",
    "get_experimento  <- function()\n",
    "{\n",
    "  if( !file.exists( \"./maestro.yaml\" ) )  cat( file=\"./maestro.yaml\", \"experimento: 1000\" )\n",
    "\n",
    "  exp  <- read_yaml( \"./maestro.yaml\" )\n",
    "  experimento_actual  <- exp$experimento\n",
    "\n",
    "  exp$experimento  <- as.integer(exp$experimento + 1)\n",
    "  Sys.chmod( \"./maestro.yaml\", mode = \"0644\", use_umask = TRUE)\n",
    "  write_yaml( exp, \"./maestro.yaml\" )\n",
    "  Sys.chmod( \"./maestro.yaml\", mode = \"0444\", use_umask = TRUE) #dejo el archivo readonly\n",
    "\n",
    "  return( experimento_actual )\n",
    "}"
   ]
  },
  {
   "cell_type": "code",
   "execution_count": 5,
   "id": "416075a9",
   "metadata": {},
   "outputs": [],
   "source": [
    "#------------------------------------------------------------------------------\n",
    "#graba a un archivo los componentes de lista\n",
    "#para el primer registro, escribe antes los titulos\n",
    "\n",
    "loguear  <- function( reg, arch=NA, folder=\"./work/\", ext=\".txt\", verbose=TRUE )\n",
    "{\n",
    "  archivo  <- arch\n",
    "  if( is.na(arch) )  archivo  <- paste0(  folder, substitute( reg), ext )\n",
    "\n",
    "  if( !file.exists( archivo ) )  #Escribo los titulos\n",
    "  {\n",
    "    linea  <- paste0( \"fecha\\t\", \n",
    "                      paste( list.names(reg), collapse=\"\\t\" ), \"\\n\" )\n",
    "\n",
    "    cat( linea, file=archivo )\n",
    "  }\n",
    "\n",
    "  linea  <- paste0( format(Sys.time(), \"%Y%m%d %H%M%S\"),  \"\\t\",     #la fecha y hora\n",
    "                    gsub( \", \", \"\\t\", toString( reg ) ),  \"\\n\" )\n",
    "\n",
    "  cat( linea, file=archivo, append=TRUE )  #grabo al archivo\n",
    "\n",
    "  if( verbose )  cat( linea )   #imprimo por pantalla\n",
    "}"
   ]
  },
  {
   "cell_type": "code",
   "execution_count": 6,
   "id": "1e9841a2",
   "metadata": {},
   "outputs": [],
   "source": [
    "#------------------------------------------------------------------------------\n",
    "#funcion para particionar, es la que Andres reemplaza con caret\n",
    "\n",
    "particionar  <- function( data, division, agrupa=\"\", campo=\"fold\", start=1, seed=NA )\n",
    "{\n",
    "  if( !is.na( seed)  )   set.seed( seed )\n",
    "\n",
    "  bloque  <- unlist( mapply(  function(x,y) { rep( y, x ) }, division, seq( from=start, length.out=length(division) )  ) )\n",
    "\n",
    "  data[ , (campo) :=  sample( rep( bloque, ceiling(.N/length(bloque))) )[1:.N],\n",
    "           by= agrupa ]\n",
    "}\n",
    "#------------------------------------------------------------------------------"
   ]
  },
  {
   "cell_type": "code",
   "execution_count": 7,
   "id": "c1e1901e",
   "metadata": {},
   "outputs": [],
   "source": [
    "ArbolSimple  <- function( fold_test, data, param )\n",
    "{\n",
    "  #genero el modelo\n",
    "  modelo  <- rpart(\"clase_ternaria ~ .\", \n",
    "                   data= data[ fold != fold_test, ],\n",
    "                   xval= 0,\n",
    "                   control= param )\n",
    "\n",
    "  #aplico el modelo a los datos de testing, fold==2\n",
    "  prediccion  <- predict( modelo, data[ fold==fold_test, ], type = \"prob\")\n",
    "\n",
    "  prob_baja2  <- prediccion[, \"BAJA+2\"]\n",
    "\n",
    "  ganancia_testing  <- sum(  data[ fold==fold_test ][ prob_baja2 >0.025,  ifelse( clase_ternaria==\"BAJA+2\", 48750, -1250 ) ] )\n",
    "\n",
    "  return( ganancia_testing )\n",
    "}"
   ]
  },
  {
   "cell_type": "code",
   "execution_count": 8,
   "id": "3f25f951",
   "metadata": {},
   "outputs": [],
   "source": [
    "#------------------------------------------------------------------------------\n",
    "\n",
    "ArbolesCrossValidation  <- function( data, param, qfolds, pagrupa, semilla )\n",
    "{\n",
    "  divi  <- rep( 1, qfolds )\n",
    "  particionar( data, divi, seed=semilla, agrupa=pagrupa )\n",
    "\n",
    "  ganancias  <- mcmapply( ArbolSimple, \n",
    "                          seq(qfolds), # 1 2 3 4 5  \n",
    "                          MoreArgs= list( data, param), \n",
    "                          SIMPLIFY= FALSE,\n",
    "                          mc.cores= 5 )   #se puede subir a 5 si posee Linux o Mac OS\n",
    "\n",
    "  data[ , fold := NULL ]\n",
    "  #devuelvo la primer ganancia y el promedio\n",
    "  return( mean( unlist( ganancias )) *  qfolds )   #aqui normalizo la ganancia\n",
    "}"
   ]
  },
  {
   "cell_type": "code",
   "execution_count": 9,
   "id": "6ba36867",
   "metadata": {},
   "outputs": [],
   "source": [
    "#------------------------------------------------------------------------------\n",
    "#esta funcion solo puede recibir los parametros que se estan optimizando\n",
    "#el resto de los parametros se pasan como variables globales\n",
    "\n",
    "EstimarGanancia  <- function( x )\n",
    "{\n",
    "   GLOBAL_iteracion  <<-  GLOBAL_iteracion + 1\n",
    "\n",
    "   xval_folds  <- 5\n",
    "   ganancia  <-  ArbolesCrossValidation( dataset, param=x, qfolds= xval_folds, pagrupa=\"clase_ternaria\", semilla=ksemilla_azar )\n",
    "\n",
    "   #si tengo una ganancia superadora, genero el archivo para Kaggle\n",
    "   if(  ganancia > GLOBAL_ganancia_max )\n",
    "   {\n",
    "     GLOBAL_ganancia_max <<-  ganancia  #asigno la nueva maxima ganancia\n",
    "    \n",
    "     modelo  <- rpart(\"clase_ternaria ~ .\",\n",
    "                      data= dataset,\n",
    "                      xval= 0,\n",
    "                      control= x )\n",
    "\n",
    "     #genero el vector con la prediccion, la probabilidad de ser positivo\n",
    "     prediccion  <- predict( modelo, dapply)\n",
    "\n",
    "     prob_baja2  <- prediccion[, \"BAJA+2\"]\n",
    "     Predicted   <- ifelse( prob_baja2 > 0.025, 1, 0 )\n",
    "\n",
    "     entrega  <-  as.data.table( list( \"numero_de_cliente\"=dapply$numero_de_cliente, \"Predicted\"=Predicted)  )\n",
    "\n",
    "     #genero el archivo para Kaggle\n",
    "     fwrite( entrega, \n",
    "             file= paste0(kkaggle, GLOBAL_iteracion, \".csv\" ),\n",
    "             sep=  \",\" )\n",
    "   }\n",
    "\n",
    "   #logueo \n",
    "   xx  <- x\n",
    "   xx$xval_folds  <-  xval_folds\n",
    "   xx$ganancia  <- ganancia\n",
    "   loguear( xx,  arch= klog )\n",
    "\n",
    "\n",
    "   return( ganancia )\n",
    "}\n",
    "#------------------------------------------------------------------------------"
   ]
  },
  {
   "cell_type": "code",
   "execution_count": 10,
   "id": "3bdbd4cb",
   "metadata": {},
   "outputs": [],
   "source": [
    "#Aqui empieza el programa\n",
    "\n",
    "if( is.na(kexperimento ) )   kexperimento <- get_experimento()  #creo el experimento"
   ]
  },
  {
   "cell_type": "code",
   "execution_count": 11,
   "id": "57f2a412",
   "metadata": {},
   "outputs": [],
   "source": [
    "#en estos archivos quedan los resultados\n",
    "kbayesiana  <- paste0(\"./work/E\",  kexperimento, \"_rpart.RDATA\" )\n",
    "klog        <- paste0(\"./work/E\",  kexperimento, \"_rpart_log.txt\" )\n",
    "kkaggle     <- paste0(\"./kaggle/E\",kexperimento, \"_rpart_kaggle_\" )"
   ]
  },
  {
   "cell_type": "code",
   "execution_count": 12,
   "id": "a555476f",
   "metadata": {},
   "outputs": [],
   "source": [
    "GLOBAL_ganancia_max  <-  -Inf\n",
    "GLOBAL_iteracion  <- 0"
   ]
  },
  {
   "cell_type": "code",
   "execution_count": 13,
   "id": "3a9bbab8",
   "metadata": {},
   "outputs": [],
   "source": [
    "if( file.exists(klog) )\n",
    "{\n",
    " tabla_log  <- fread( klog)\n",
    " GLOBAL_iteracion  <- nrow( tabla_log ) -1\n",
    " GLOBAL_ganancia_max  <-  tabla_log[ , max(ganancia) ]\n",
    "}"
   ]
  },
  {
   "cell_type": "code",
   "execution_count": 14,
   "id": "81cc80f4",
   "metadata": {},
   "outputs": [],
   "source": [
    "#cargo los datasets\n",
    "dataset  <- fread(karch_generacion)   #donde entreno\n",
    "dapply  <- fread(karch_aplicacion)    #donde aplico el modelo"
   ]
  },
  {
   "cell_type": "code",
   "execution_count": 15,
   "id": "c81db6a6",
   "metadata": {},
   "outputs": [],
   "source": [
    "#Aqui comienza la configuracion de la Bayesian Optimization\n",
    "\n",
    "configureMlr( show.learner.output = FALSE)\n",
    "\n",
    "funcion_optimizar  <- EstimarGanancia\n",
    "\n",
    "#configuro la busqueda bayesiana,  los hiperparametros que se van a optimizar\n",
    "#por favor, no desesperarse por lo complejo\n",
    "obj.fun  <- makeSingleObjectiveFunction(\n",
    "              fn=       funcion_optimizar,\n",
    "              minimize= FALSE,   #estoy Maximizando la ganancia\n",
    "              noisy=    TRUE,\n",
    "              par.set=  hs,\n",
    "              has.simple.signature = FALSE\n",
    "             )\n",
    "\n",
    "ctrl  <- makeMBOControl( save.on.disk.at.time= 600,  save.file.path= kbayesiana)\n",
    "ctrl  <- setMBOControlTermination(ctrl, iters= kBO_iter )\n",
    "ctrl  <- setMBOControlInfill(ctrl, crit= makeMBOInfillCritEI())\n",
    "\n",
    "surr.km  <-  makeLearner(\"regr.km\", predict.type= \"se\", covtype= \"matern3_2\", control= list(trace= TRUE))"
   ]
  },
  {
   "cell_type": "code",
   "execution_count": null,
   "id": "9383ca74",
   "metadata": {},
   "outputs": [
    {
     "name": "stderr",
     "output_type": "stream",
     "text": [
      "Computing y column(s) for design. Not provided.\n",
      "\n"
     ]
    },
    {
     "name": "stdout",
     "output_type": "stream",
     "text": [
      "20210910 174809\t-0.0729451099337893\t3771\t1671\t14\t5\t8015000\n",
      "20210910 174850\t-0.394344384167925\t4081\t1474\t9\t5\t8202500\n",
      "20210910 174935\t-0.946936997158627\t2443\t425\t9\t5\t8572500\n",
      "20210910 174959\t-0.780221707651799\t6280\t831\t11\t5\t8397500\n",
      "20210910 175025\t-0.291758705549\t5223\t952\t20\t5\t8326250\n",
      "20210910 175052\t-0.880817802913953\t3492\t1313\t18\t5\t8045000\n",
      "20210910 175112\t-0.670646816478984\t2528\t1174\t7\t5\t8247500\n",
      "20210910 175137\t-0.168921466500615\t4719\t1759\t16\t5\t7963750\n",
      "20210910 175149\t-0.609347469644854\t7307\t156\t4\t5\t7923750\n",
      "20210910 175231\t-0.58237784133089\t6701\t32\t19\t5\t7270000\n",
      "20210910 175255\t-0.79792634487967\t7762\t1937\t13\t5\t7592500\n",
      "20210910 175305\t0.069039669787162\t5809\t1608\t3\t5\t0\n",
      "20210910 175322\t-0.641121614130679\t4344\t1994\t6\t5\t7831250\n",
      "20210910 175346\t-0.259775277442532\t1596\t471\t8\t5\t8337500\n",
      "20210910 175417\t-0.83355741102132\t3217\t772\t19\t5\t8327500\n",
      "20210910 175431\t0.014208721718751\t7209\t1402\t16\t5\t0\n"
     ]
    },
    {
     "name": "stderr",
     "output_type": "stream",
     "text": [
      "[mbo] 0: cp=-0.0729; minsplit=3771; minbucket=1671; maxdepth=14 : y = 8.02e+06 : 48.5 secs : initdesign\n",
      "\n",
      "[mbo] 0: cp=-0.394; minsplit=4081; minbucket=1474; maxdepth=9 : y = 8.2e+06 : 40.8 secs : initdesign\n",
      "\n",
      "[mbo] 0: cp=-0.947; minsplit=2443; minbucket=425; maxdepth=9 : y = 8.57e+06 : 44.8 secs : initdesign\n",
      "\n",
      "[mbo] 0: cp=-0.78; minsplit=6280; minbucket=831; maxdepth=11 : y = 8.4e+06 : 24.8 secs : initdesign\n",
      "\n",
      "[mbo] 0: cp=-0.292; minsplit=5223; minbucket=952; maxdepth=20 : y = 8.33e+06 : 25.7 secs : initdesign\n",
      "\n",
      "[mbo] 0: cp=-0.881; minsplit=3492; minbucket=1313; maxdepth=18 : y = 8.04e+06 : 27.0 secs : initdesign\n",
      "\n",
      "[mbo] 0: cp=-0.671; minsplit=2528; minbucket=1174; maxdepth=7 : y = 8.25e+06 : 19.4 secs : initdesign\n",
      "\n",
      "[mbo] 0: cp=-0.169; minsplit=4719; minbucket=1759; maxdepth=16 : y = 7.96e+06 : 24.9 secs : initdesign\n",
      "\n",
      "[mbo] 0: cp=-0.609; minsplit=7307; minbucket=156; maxdepth=4 : y = 7.92e+06 : 12.9 secs : initdesign\n",
      "\n",
      "[mbo] 0: cp=-0.582; minsplit=6701; minbucket=32; maxdepth=19 : y = 7.27e+06 : 41.7 secs : initdesign\n",
      "\n",
      "[mbo] 0: cp=-0.798; minsplit=7762; minbucket=1937; maxdepth=13 : y = 7.59e+06 : 23.9 secs : initdesign\n",
      "\n",
      "[mbo] 0: cp=0.069; minsplit=5809; minbucket=1608; maxdepth=3 : y = 0 : 10.3 secs : initdesign\n",
      "\n",
      "[mbo] 0: cp=-0.641; minsplit=4344; minbucket=1994; maxdepth=6 : y = 7.83e+06 : 17.0 secs : initdesign\n",
      "\n",
      "[mbo] 0: cp=-0.26; minsplit=1596; minbucket=471; maxdepth=8 : y = 8.34e+06 : 23.3 secs : initdesign\n",
      "\n",
      "[mbo] 0: cp=-0.834; minsplit=3217; minbucket=772; maxdepth=19 : y = 8.33e+06 : 31.4 secs : initdesign\n",
      "\n",
      "[mbo] 0: cp=0.0142; minsplit=7209; minbucket=1402; maxdepth=16 : y = 0 : 14.3 secs : initdesign\n",
      "\n"
     ]
    },
    {
     "name": "stdout",
     "output_type": "stream",
     "text": [
      "20210910 175459\t-0.226763924877118\t2922\t1459\t20\t5\t8192500\n"
     ]
    },
    {
     "name": "stderr",
     "output_type": "stream",
     "text": [
      "[mbo] 1: cp=-0.227; minsplit=2922; minbucket=1459; maxdepth=20 : y = 8.19e+06 : 25.3 secs : infill_ei\n",
      "\n"
     ]
    },
    {
     "name": "stdout",
     "output_type": "stream",
     "text": [
      "20210910 175530\t-0.11541285601269\t1322\t661\t13\t5\t8517500\n"
     ]
    },
    {
     "name": "stderr",
     "output_type": "stream",
     "text": [
      "[mbo] 2: cp=-0.115; minsplit=1322; minbucket=661; maxdepth=13 : y = 8.52e+06 : 28.3 secs : infill_ei\n",
      "\n"
     ]
    },
    {
     "name": "stdout",
     "output_type": "stream",
     "text": [
      "20210910 175543\t-0.795819024986907\t1980\t2\t3\t5\t7762500\n"
     ]
    },
    {
     "name": "stderr",
     "output_type": "stream",
     "text": [
      "[mbo] 3: cp=-0.796; minsplit=1980; minbucket=2; maxdepth=3 : y = 7.76e+06 : 11.1 secs : infill_ei\n",
      "\n"
     ]
    },
    {
     "name": "stdout",
     "output_type": "stream",
     "text": [
      "20210910 175614\t-0.288829078270865\t3952\t21\t12\t5\t7738750\n"
     ]
    },
    {
     "name": "stderr",
     "output_type": "stream",
     "text": [
      "[mbo] 4: cp=-0.289; minsplit=3952; minbucket=21; maxdepth=12 : y = 7.74e+06 : 29.9 secs : infill_ei\n",
      "\n"
     ]
    },
    {
     "name": "stdout",
     "output_type": "stream",
     "text": [
      "20210910 175639\t-0.292337402781028\t3986\t1985\t3\t5\t7403750\n"
     ]
    },
    {
     "name": "stderr",
     "output_type": "stream",
     "text": [
      "[mbo] 5: cp=-0.292; minsplit=3986; minbucket=1985; maxdepth=3 : y = 7.4e+06 : 23.1 secs : infill_ei\n",
      "\n"
     ]
    },
    {
     "name": "stdout",
     "output_type": "stream",
     "text": [
      "20210910 175716\t-0.939949489077618\t6834\t1\t11\t5\t7795000\n"
     ]
    },
    {
     "name": "stderr",
     "output_type": "stream",
     "text": [
      "[mbo] 6: cp=-0.94; minsplit=6834; minbucket=1; maxdepth=11 : y = 7.8e+06 : 34.8 secs : infill_ei\n",
      "\n"
     ]
    },
    {
     "name": "stdout",
     "output_type": "stream",
     "text": [
      "20210910 175812\t-0.350528338845691\t1453\t725\t20\t5\t9036250\n"
     ]
    },
    {
     "name": "stderr",
     "output_type": "stream",
     "text": [
      "[mbo] 7: cp=-0.351; minsplit=1453; minbucket=725; maxdepth=20 : y = 9.04e+06 : 53.7 secs : infill_ei\n",
      "\n",
      "Saved the current state after iteration 8 in the file ./work/E1003_rpart.RDATA.\n",
      "\n"
     ]
    },
    {
     "name": "stdout",
     "output_type": "stream",
     "text": [
      "20210910 175846\t-0.434103021093759\t1107\t552\t20\t5\t7682500\n"
     ]
    },
    {
     "name": "stderr",
     "output_type": "stream",
     "text": [
      "[mbo] 8: cp=-0.434; minsplit=1107; minbucket=552; maxdepth=20 : y = 7.68e+06 : 32.2 secs : infill_ei\n",
      "\n"
     ]
    },
    {
     "name": "stdout",
     "output_type": "stream",
     "text": [
      "20210910 175932\t-0.719380574057918\t4859\t14\t20\t5\t7551250\n"
     ]
    },
    {
     "name": "stderr",
     "output_type": "stream",
     "text": [
      "[mbo] 9: cp=-0.719; minsplit=4859; minbucket=14; maxdepth=20 : y = 7.55e+06 : 44.1 secs : infill_ei\n",
      "\n"
     ]
    },
    {
     "name": "stdout",
     "output_type": "stream",
     "text": [
      "20210910 180001\t-0.367675859245769\t7998\t938\t20\t5\t7873750\n"
     ]
    },
    {
     "name": "stderr",
     "output_type": "stream",
     "text": [
      "[mbo] 10: cp=-0.368; minsplit=7998; minbucket=938; maxdepth=20 : y = 7.87e+06 : 27.7 secs : infill_ei\n",
      "\n"
     ]
    },
    {
     "name": "stdout",
     "output_type": "stream",
     "text": [
      "20210910 180046\t-0.999957755985053\t516\t67\t20\t5\t6011250\n"
     ]
    },
    {
     "name": "stderr",
     "output_type": "stream",
     "text": [
      "[mbo] 11: cp=-1; minsplit=516; minbucket=67; maxdepth=20 : y = 6.01e+06 : 42.5 secs : infill_ei\n",
      "\n"
     ]
    },
    {
     "name": "stdout",
     "output_type": "stream",
     "text": [
      "20210910 180058\t-0.906139026640834\t3530\t736\t3\t5\t8261250\n"
     ]
    },
    {
     "name": "stderr",
     "output_type": "stream",
     "text": [
      "[mbo] 12: cp=-0.906; minsplit=3530; minbucket=736; maxdepth=3 : y = 8.26e+06 : 11.0 secs : infill_ei\n",
      "\n"
     ]
    },
    {
     "name": "stdout",
     "output_type": "stream",
     "text": [
      "20210910 180130\t-0.32358070251387\t2107\t1053\t20\t5\t8857500\n"
     ]
    },
    {
     "name": "stderr",
     "output_type": "stream",
     "text": [
      "[mbo] 13: cp=-0.324; minsplit=2107; minbucket=1053; maxdepth=20 : y = 8.86e+06 : 29.2 secs : infill_ei\n",
      "\n"
     ]
    },
    {
     "name": "stdout",
     "output_type": "stream",
     "text": [
      "20210910 180148\t-0.359536234793853\t958\t479\t5\t5\t8917500\n"
     ]
    },
    {
     "name": "stderr",
     "output_type": "stream",
     "text": [
      "[mbo] 14: cp=-0.36; minsplit=958; minbucket=479; maxdepth=5 : y = 8.92e+06 : 15.4 secs : infill_ei\n",
      "\n"
     ]
    },
    {
     "name": "stdout",
     "output_type": "stream",
     "text": [
      "20210910 180220\t-0.350613013240261\t1562\t780\t13\t5\t8695000\n"
     ]
    },
    {
     "name": "stderr",
     "output_type": "stream",
     "text": [
      "[mbo] 15: cp=-0.351; minsplit=1562; minbucket=780; maxdepth=13 : y = 8.7e+06 : 30.2 secs : infill_ei\n",
      "\n"
     ]
    },
    {
     "name": "stdout",
     "output_type": "stream",
     "text": [
      "20210910 180311\t-0.322662360841671\t9\t3\t20\t5\t3950000\n"
     ]
    },
    {
     "name": "stderr",
     "output_type": "stream",
     "text": [
      "[mbo] 16: cp=-0.323; minsplit=9; minbucket=3; maxdepth=20 : y = 3.95e+06 : 48.3 secs : infill_ei\n",
      "\n"
     ]
    },
    {
     "name": "stdout",
     "output_type": "stream",
     "text": [
      "20210910 180336\t-0.346536088103936\t4298\t1999\t20\t5\t7828750\n"
     ]
    },
    {
     "name": "stderr",
     "output_type": "stream",
     "text": [
      "[mbo] 17: cp=-0.347; minsplit=4298; minbucket=1999; maxdepth=20 : y = 7.83e+06 : 23.7 secs : infill_ei\n",
      "\n"
     ]
    },
    {
     "name": "stdout",
     "output_type": "stream",
     "text": [
      "20210910 180408\t-0.35339919610109\t3769\t707\t20\t5\t8256250\n"
     ]
    },
    {
     "name": "stderr",
     "output_type": "stream",
     "text": [
      "[mbo] 18: cp=-0.353; minsplit=3769; minbucket=707; maxdepth=20 : y = 8.26e+06 : 30.2 secs : infill_ei\n",
      "\n"
     ]
    },
    {
     "name": "stdout",
     "output_type": "stream",
     "text": [
      "20210910 180421\t-0.999067944895307\t5462\t1147\t3\t5\t8230000\n"
     ]
    },
    {
     "name": "stderr",
     "output_type": "stream",
     "text": [
      "[mbo] 19: cp=-0.999; minsplit=5462; minbucket=1147; maxdepth=3 : y = 8.23e+06 : 11.2 secs : infill_ei\n",
      "\n"
     ]
    },
    {
     "name": "stdout",
     "output_type": "stream",
     "text": [
      "20210910 180433\t-0.404649948655485\t4974\t390\t3\t5\t8283750\n"
     ]
    },
    {
     "name": "stderr",
     "output_type": "stream",
     "text": [
      "[mbo] 20: cp=-0.405; minsplit=4974; minbucket=390; maxdepth=3 : y = 8.28e+06 : 10.9 secs : infill_ei\n",
      "\n"
     ]
    },
    {
     "name": "stdout",
     "output_type": "stream",
     "text": [
      "20210910 180502\t-0.629787681286689\t5198\t1205\t20\t5\t8020000\n"
     ]
    },
    {
     "name": "stderr",
     "output_type": "stream",
     "text": [
      "[mbo] 21: cp=-0.63; minsplit=5198; minbucket=1205; maxdepth=20 : y = 8.02e+06 : 26.8 secs : infill_ei\n",
      "\n"
     ]
    },
    {
     "name": "stdout",
     "output_type": "stream",
     "text": [
      "20210910 180515\t-0.352960416561179\t1266\t575\t3\t5\t8193750\n"
     ]
    },
    {
     "name": "stderr",
     "output_type": "stream",
     "text": [
      "[mbo] 22: cp=-0.353; minsplit=1266; minbucket=575; maxdepth=3 : y = 8.19e+06 : 10.9 secs : infill_ei\n",
      "\n"
     ]
    },
    {
     "name": "stdout",
     "output_type": "stream",
     "text": [
      "20210910 180546\t-0.230276146318472\t1618\t805\t20\t5\t9030000\n"
     ]
    },
    {
     "name": "stderr",
     "output_type": "stream",
     "text": [
      "[mbo] 23: cp=-0.23; minsplit=1618; minbucket=805; maxdepth=20 : y = 9.03e+06 : 29.1 secs : infill_ei\n",
      "\n"
     ]
    },
    {
     "name": "stdout",
     "output_type": "stream",
     "text": [
      "20210910 180628\t-0.650985485480135\t8000\t7\t18\t5\t7220000\n"
     ]
    },
    {
     "name": "stderr",
     "output_type": "stream",
     "text": [
      "[mbo] 24: cp=-0.651; minsplit=8000; minbucket=7; maxdepth=18 : y = 7.22e+06 : 39.8 secs : infill_ei\n",
      "\n"
     ]
    },
    {
     "name": "stdout",
     "output_type": "stream",
     "text": [
      "20210910 180649\t-0.824744442100032\t5000\t506\t7\t5\t8431250\n"
     ]
    },
    {
     "name": "stderr",
     "output_type": "stream",
     "text": [
      "[mbo] 25: cp=-0.825; minsplit=5000; minbucket=506; maxdepth=7 : y = 8.43e+06 : 19.4 secs : infill_ei\n",
      "\n"
     ]
    },
    {
     "name": "stdout",
     "output_type": "stream",
     "text": [
      "20210910 180709\t-0.87862395374282\t1256\t628\t6\t5\t8262500\n"
     ]
    },
    {
     "name": "stderr",
     "output_type": "stream",
     "text": [
      "[mbo] 26: cp=-0.879; minsplit=1256; minbucket=628; maxdepth=6 : y = 8.26e+06 : 18.2 secs : infill_ei\n",
      "\n"
     ]
    },
    {
     "name": "stdout",
     "output_type": "stream",
     "text": [
      "20210910 180738\t-0.999981495621285\t5849\t890\t20\t5\t8458750\n"
     ]
    },
    {
     "name": "stderr",
     "output_type": "stream",
     "text": [
      "[mbo] 27: cp=-1; minsplit=5849; minbucket=890; maxdepth=20 : y = 8.46e+06 : 27.6 secs : infill_ei\n",
      "\n"
     ]
    },
    {
     "name": "stdout",
     "output_type": "stream",
     "text": [
      "20210910 180758\t-0.224285549419136\t884\t438\t6\t5\t8056250\n"
     ]
    },
    {
     "name": "stderr",
     "output_type": "stream",
     "text": [
      "[mbo] 28: cp=-0.224; minsplit=884; minbucket=438; maxdepth=6 : y = 8.06e+06 : 17.5 secs : infill_ei\n",
      "\n"
     ]
    },
    {
     "name": "stdout",
     "output_type": "stream",
     "text": [
      "20210910 180831\t-0.0847927551308709\t1719\t857\t20\t5\t8515000\n"
     ]
    },
    {
     "name": "stderr",
     "output_type": "stream",
     "text": [
      "[mbo] 29: cp=-0.0848; minsplit=1719; minbucket=857; maxdepth=20 : y = 8.52e+06 : 30.5 secs : infill_ei\n",
      "\n",
      "Saved the current state after iteration 30 in the file ./work/E1003_rpart.RDATA.\n",
      "\n"
     ]
    },
    {
     "name": "stdout",
     "output_type": "stream",
     "text": [
      "20210910 180850\t-0.538780672079134\t1089\t543\t6\t5\t8038750\n"
     ]
    },
    {
     "name": "stderr",
     "output_type": "stream",
     "text": [
      "[mbo] 30: cp=-0.539; minsplit=1089; minbucket=543; maxdepth=6 : y = 8.04e+06 : 17.7 secs : infill_ei\n",
      "\n"
     ]
    },
    {
     "name": "stdout",
     "output_type": "stream",
     "text": [
      "20210910 180903\t-0.999926376078396\t7999\t929\t3\t5\t7873750\n"
     ]
    },
    {
     "name": "stderr",
     "output_type": "stream",
     "text": [
      "[mbo] 31: cp=-1; minsplit=7999; minbucket=929; maxdepth=3 : y = 7.87e+06 : 10.5 secs : infill_ei\n",
      "\n"
     ]
    },
    {
     "name": "stdout",
     "output_type": "stream",
     "text": [
      "20210910 180915\t-0.704782380427153\t5812\t899\t3\t5\t8397500\n"
     ]
    },
    {
     "name": "stderr",
     "output_type": "stream",
     "text": [
      "[mbo] 32: cp=-0.705; minsplit=5812; minbucket=899; maxdepth=3 : y = 8.4e+06 : 10.6 secs : infill_ei\n",
      "\n"
     ]
    },
    {
     "name": "stdout",
     "output_type": "stream",
     "text": [
      "20210910 180946\t-0.999949729643361\t7989\t1151\t20\t5\t7873750\n"
     ]
    },
    {
     "name": "stderr",
     "output_type": "stream",
     "text": [
      "[mbo] 33: cp=-1; minsplit=7989; minbucket=1151; maxdepth=20 : y = 7.87e+06 : 29.2 secs : infill_ei\n",
      "\n"
     ]
    },
    {
     "name": "stdout",
     "output_type": "stream",
     "text": [
      "20210910 181007\t-0.999998557259841\t6447\t1991\t8\t5\t7403750\n"
     ]
    },
    {
     "name": "stderr",
     "output_type": "stream",
     "text": [
      "[mbo] 34: cp=-1; minsplit=6447; minbucket=1991; maxdepth=8 : y = 7.4e+06 : 20.2 secs : infill_ei\n",
      "\n"
     ]
    },
    {
     "name": "stdout",
     "output_type": "stream",
     "text": [
      "20210910 181046\t-0.300620270055113\t1620\t332\t20\t5\t8112500\n"
     ]
    },
    {
     "name": "stderr",
     "output_type": "stream",
     "text": [
      "[mbo] 35: cp=-0.301; minsplit=1620; minbucket=332; maxdepth=20 : y = 8.11e+06 : 36.8 secs : infill_ei\n",
      "\n"
     ]
    },
    {
     "name": "stdout",
     "output_type": "stream",
     "text": [
      "20210910 181115\t-0.999907246979183\t2384\t940\t20\t5\t8070000\n"
     ]
    },
    {
     "name": "stderr",
     "output_type": "stream",
     "text": [
      "[mbo] 36: cp=-1; minsplit=2384; minbucket=940; maxdepth=20 : y = 8.07e+06 : 27.4 secs : infill_ei\n",
      "\n"
     ]
    },
    {
     "name": "stdout",
     "output_type": "stream",
     "text": [
      "20210910 181146\t-0.999971065347534\t4457\t692\t13\t5\t8375000\n"
     ]
    },
    {
     "name": "stderr",
     "output_type": "stream",
     "text": [
      "[mbo] 37: cp=-1; minsplit=4457; minbucket=692; maxdepth=13 : y = 8.38e+06 : 29.1 secs : infill_ei\n",
      "\n"
     ]
    },
    {
     "name": "stdout",
     "output_type": "stream",
     "text": [
      "20210910 181215\t-0.375824434863008\t5181\t764\t14\t5\t8330000\n"
     ]
    },
    {
     "name": "stderr",
     "output_type": "stream",
     "text": [
      "[mbo] 38: cp=-0.376; minsplit=5181; minbucket=764; maxdepth=14 : y = 8.33e+06 : 27.5 secs : infill_ei\n",
      "\n"
     ]
    },
    {
     "name": "stdout",
     "output_type": "stream",
     "text": [
      "20210910 181234\t-0.999876144021958\t3178\t6\t6\t5\t8311250\n"
     ]
    },
    {
     "name": "stderr",
     "output_type": "stream",
     "text": [
      "[mbo] 39: cp=-1; minsplit=3178; minbucket=6; maxdepth=6 : y = 8.31e+06 : 17.0 secs : infill_ei\n",
      "\n"
     ]
    },
    {
     "name": "stdout",
     "output_type": "stream",
     "text": [
      "20210910 181246\t-0.516147922041411\t7999\t1501\t3\t5\t7558750\n"
     ]
    },
    {
     "name": "stderr",
     "output_type": "stream",
     "text": [
      "[mbo] 40: cp=-0.516; minsplit=7999; minbucket=1501; maxdepth=3 : y = 7.56e+06 : 10.7 secs : infill_ei\n",
      "\n"
     ]
    },
    {
     "name": "stdout",
     "output_type": "stream",
     "text": [
      "20210910 181308\t-0.337765868780344\t4471\t780\t7\t5\t8332500\n"
     ]
    },
    {
     "name": "stderr",
     "output_type": "stream",
     "text": [
      "[mbo] 41: cp=-0.338; minsplit=4471; minbucket=780; maxdepth=7 : y = 8.33e+06 : 19.9 secs : infill_ei\n",
      "\n"
     ]
    },
    {
     "name": "stdout",
     "output_type": "stream",
     "text": [
      "20210910 181325\t-0.999807710823385\t2214\t1105\t5\t5\t8316250\n"
     ]
    },
    {
     "name": "stderr",
     "output_type": "stream",
     "text": [
      "[mbo] 42: cp=-1; minsplit=2214; minbucket=1105; maxdepth=5 : y = 8.32e+06 : 14.9 secs : infill_ei\n",
      "\n"
     ]
    },
    {
     "name": "stdout",
     "output_type": "stream",
     "text": [
      "20210910 181352\t-0.826055712198913\t6871\t951\t20\t5\t8217500\n"
     ]
    },
    {
     "name": "stderr",
     "output_type": "stream",
     "text": [
      "[mbo] 43: cp=-0.826; minsplit=6871; minbucket=951; maxdepth=20 : y = 8.22e+06 : 25.4 secs : infill_ei\n",
      "\n"
     ]
    },
    {
     "name": "stdout",
     "output_type": "stream",
     "text": [
      "20210910 181421\t-0.897315153744619\t5577\t817\t16\t5\t8458750\n"
     ]
    },
    {
     "name": "stderr",
     "output_type": "stream",
     "text": [
      "[mbo] 44: cp=-0.897; minsplit=5577; minbucket=817; maxdepth=16 : y = 8.46e+06 : 27.4 secs : infill_ei\n",
      "\n"
     ]
    },
    {
     "name": "stdout",
     "output_type": "stream",
     "text": [
      "20210910 181444\t-0.369542534988951\t1377\t687\t7\t5\t8495000\n"
     ]
    },
    {
     "name": "stderr",
     "output_type": "stream",
     "text": [
      "[mbo] 45: cp=-0.37; minsplit=1377; minbucket=687; maxdepth=7 : y = 8.5e+06 : 20.8 secs : infill_ei\n",
      "\n"
     ]
    },
    {
     "name": "stdout",
     "output_type": "stream",
     "text": [
      "20210910 181508\t-0.761633040449774\t4427\t1083\t8\t5\t8187500\n"
     ]
    },
    {
     "name": "stderr",
     "output_type": "stream",
     "text": [
      "[mbo] 46: cp=-0.762; minsplit=4427; minbucket=1083; maxdepth=8 : y = 8.19e+06 : 22.4 secs : infill_ei\n",
      "\n"
     ]
    },
    {
     "name": "stdout",
     "output_type": "stream",
     "text": [
      "20210910 181531\t-0.621052039559769\t8000\t919\t9\t5\t7873750\n"
     ]
    },
    {
     "name": "stderr",
     "output_type": "stream",
     "text": [
      "[mbo] 47: cp=-0.621; minsplit=8000; minbucket=919; maxdepth=9 : y = 7.87e+06 : 21.7 secs : infill_ei\n",
      "\n"
     ]
    },
    {
     "name": "stdout",
     "output_type": "stream",
     "text": [
      "20210910 181606\t-0.297968554002307\t1521\t760\t20\t5\t8997500\n"
     ]
    },
    {
     "name": "stderr",
     "output_type": "stream",
     "text": [
      "[mbo] 48: cp=-0.298; minsplit=1521; minbucket=760; maxdepth=20 : y = 9e+06 : 32.3 secs : infill_ei\n",
      "\n"
     ]
    },
    {
     "name": "stdout",
     "output_type": "stream",
     "text": [
      "20210910 181634\t-0.150987139849052\t2115\t1057\t11\t5\t8880000\n"
     ]
    },
    {
     "name": "stderr",
     "output_type": "stream",
     "text": [
      "[mbo] 49: cp=-0.151; minsplit=2115; minbucket=1057; maxdepth=11 : y = 8.88e+06 : 25.8 secs : infill_ei\n",
      "\n"
     ]
    },
    {
     "name": "stdout",
     "output_type": "stream",
     "text": [
      "20210910 181707\t-0.177965968073779\t1774\t884\t17\t5\t8718750\n"
     ]
    },
    {
     "name": "stderr",
     "output_type": "stream",
     "text": [
      "[mbo] 50: cp=-0.178; minsplit=1774; minbucket=884; maxdepth=17 : y = 8.72e+06 : 30.1 secs : infill_ei\n",
      "\n"
     ]
    },
    {
     "name": "stdout",
     "output_type": "stream",
     "text": [
      "20210910 181735\t-0.199865262308935\t3397\t1694\t12\t5\t8015000\n"
     ]
    },
    {
     "name": "stderr",
     "output_type": "stream",
     "text": [
      "[mbo] 51: cp=-0.2; minsplit=3397; minbucket=1694; maxdepth=12 : y = 8.02e+06 : 25.9 secs : infill_ei\n",
      "\n"
     ]
    },
    {
     "name": "stdout",
     "output_type": "stream",
     "text": [
      "20210910 181810\t-0.145979190746232\t2552\t709\t20\t5\t8640000\n"
     ]
    },
    {
     "name": "stderr",
     "output_type": "stream",
     "text": [
      "[mbo] 52: cp=-0.146; minsplit=2552; minbucket=709; maxdepth=20 : y = 8.64e+06 : 34.1 secs : infill_ei\n",
      "\n"
     ]
    },
    {
     "name": "stdout",
     "output_type": "stream",
     "text": [
      "20210910 181840\t-0.151523857770597\t4062\t869\t20\t5\t8362500\n"
     ]
    },
    {
     "name": "stderr",
     "output_type": "stream",
     "text": [
      "[mbo] 53: cp=-0.152; minsplit=4062; minbucket=869; maxdepth=20 : y = 8.36e+06 : 27.7 secs : infill_ei\n",
      "\n",
      "Saved the current state after iteration 54 in the file ./work/E1003_rpart.RDATA.\n",
      "\n"
     ]
    },
    {
     "name": "stdout",
     "output_type": "stream",
     "text": [
      "20210910 181900\t-0.690694812020214\t3208\t342\t6\t5\t8440000\n"
     ]
    },
    {
     "name": "stderr",
     "output_type": "stream",
     "text": [
      "[mbo] 54: cp=-0.691; minsplit=3208; minbucket=342; maxdepth=6 : y = 8.44e+06 : 18.2 secs : infill_ei\n",
      "\n"
     ]
    },
    {
     "name": "stdout",
     "output_type": "stream",
     "text": [
      "20210910 181912\t-0.999998602061522\t5780\t345\t3\t5\t8283750\n"
     ]
    },
    {
     "name": "stderr",
     "output_type": "stream",
     "text": [
      "[mbo] 55: cp=-1; minsplit=5780; minbucket=345; maxdepth=3 : y = 8.28e+06 : 10.2 secs : infill_ei\n",
      "\n"
     ]
    },
    {
     "name": "stdout",
     "output_type": "stream",
     "text": [
      "20210910 181940\t-0.110829963281432\t2514\t739\t11\t5\t8625000\n"
     ]
    },
    {
     "name": "stderr",
     "output_type": "stream",
     "text": [
      "[mbo] 56: cp=-0.111; minsplit=2514; minbucket=739; maxdepth=11 : y = 8.62e+06 : 26.3 secs : infill_ei\n",
      "\n"
     ]
    },
    {
     "name": "stdout",
     "output_type": "stream",
     "text": [
      "20210910 181956\t-0.70488793136636\t672\t336\t4\t5\t8162500\n"
     ]
    },
    {
     "name": "stderr",
     "output_type": "stream",
     "text": [
      "[mbo] 57: cp=-0.705; minsplit=672; minbucket=336; maxdepth=4 : y = 8.16e+06 : 13.8 secs : infill_ei\n",
      "\n"
     ]
    },
    {
     "name": "stdout",
     "output_type": "stream",
     "text": [
      "20210910 182027\t-0.817005960807617\t1822\t911\t14\t5\t8872500\n"
     ]
    },
    {
     "name": "stderr",
     "output_type": "stream",
     "text": [
      "[mbo] 58: cp=-0.817; minsplit=1822; minbucket=911; maxdepth=14 : y = 8.87e+06 : 28.6 secs : infill_ei\n",
      "\n"
     ]
    },
    {
     "name": "stdout",
     "output_type": "stream",
     "text": [
      "20210910 182059\t-0.747582303369729\t1703\t849\t20\t5\t8556250\n"
     ]
    },
    {
     "name": "stderr",
     "output_type": "stream",
     "text": [
      "[mbo] 59: cp=-0.748; minsplit=1703; minbucket=849; maxdepth=20 : y = 8.56e+06 : 29.3 secs : infill_ei\n",
      "\n"
     ]
    },
    {
     "name": "stdout",
     "output_type": "stream",
     "text": [
      "20210910 182127\t-0.845267053618223\t2321\t1159\t11\t5\t8362500\n"
     ]
    },
    {
     "name": "stderr",
     "output_type": "stream",
     "text": [
      "[mbo] 60: cp=-0.845; minsplit=2321; minbucket=1159; maxdepth=11 : y = 8.36e+06 : 25.7 secs : infill_ei\n",
      "\n"
     ]
    },
    {
     "name": "stdout",
     "output_type": "stream",
     "text": [
      "20210910 182203\t-0.907665838289527\t2005\t629\t15\t5\t8618750\n"
     ]
    },
    {
     "name": "stderr",
     "output_type": "stream",
     "text": [
      "[mbo] 61: cp=-0.908; minsplit=2005; minbucket=629; maxdepth=15 : y = 8.62e+06 : 34.4 secs : infill_ei\n",
      "\n"
     ]
    },
    {
     "name": "stdout",
     "output_type": "stream",
     "text": [
      "20210910 182235\t-0.160245174186585\t1834\t915\t20\t5\t8886250\n"
     ]
    },
    {
     "name": "stderr",
     "output_type": "stream",
     "text": [
      "[mbo] 62: cp=-0.16; minsplit=1834; minbucket=915; maxdepth=20 : y = 8.89e+06 : 29.8 secs : infill_ei\n",
      "\n"
     ]
    },
    {
     "name": "stdout",
     "output_type": "stream",
     "text": [
      "20210910 182251\t-0.620353430056758\t4887\t445\t5\t5\t8431250\n"
     ]
    },
    {
     "name": "stderr",
     "output_type": "stream",
     "text": [
      "[mbo] 63: cp=-0.62; minsplit=4887; minbucket=445; maxdepth=5 : y = 8.43e+06 : 14.5 secs : infill_ei\n",
      "\n"
     ]
    },
    {
     "name": "stdout",
     "output_type": "stream",
     "text": [
      "20210910 182318\t-0.630462487945686\t3736\t819\t10\t5\t8377500\n"
     ]
    },
    {
     "name": "stderr",
     "output_type": "stream",
     "text": [
      "[mbo] 64: cp=-0.63; minsplit=3736; minbucket=819; maxdepth=10 : y = 8.38e+06 : 24.7 secs : infill_ei\n",
      "\n"
     ]
    },
    {
     "name": "stdout",
     "output_type": "stream",
     "text": [
      "20210910 182347\t-0.696196643590931\t1735\t862\t15\t5\t8713750\n"
     ]
    },
    {
     "name": "stderr",
     "output_type": "stream",
     "text": [
      "[mbo] 65: cp=-0.696; minsplit=1735; minbucket=862; maxdepth=15 : y = 8.71e+06 : 27.5 secs : infill_ei\n",
      "\n"
     ]
    },
    {
     "name": "stdout",
     "output_type": "stream",
     "text": [
      "20210910 182400\t0.0996603296987287\t2122\t1055\t10\t5\t0\n"
     ]
    },
    {
     "name": "stderr",
     "output_type": "stream",
     "text": [
      "[mbo] 66: cp=0.0997; minsplit=2122; minbucket=1055; maxdepth=10 : y = 0 : 10.3 secs : infill_ei\n",
      "\n"
     ]
    },
    {
     "name": "stdout",
     "output_type": "stream",
     "text": [
      "20210910 182430\t-0.124621112516729\t2230\t1112\t14\t5\t8746250\n"
     ]
    },
    {
     "name": "stderr",
     "output_type": "stream",
     "text": [
      "[mbo] 67: cp=-0.125; minsplit=2230; minbucket=1112; maxdepth=14 : y = 8.75e+06 : 27.9 secs : infill_ei\n",
      "\n"
     ]
    },
    {
     "name": "stdout",
     "output_type": "stream",
     "text": [
      "20210910 182448\t-0.387921880481276\t6318\t1985\t6\t5\t7403750\n"
     ]
    },
    {
     "name": "stderr",
     "output_type": "stream",
     "text": [
      "[mbo] 68: cp=-0.388; minsplit=6318; minbucket=1985; maxdepth=6 : y = 7.4e+06 : 16.8 secs : infill_ei\n",
      "\n"
     ]
    },
    {
     "name": "stdout",
     "output_type": "stream",
     "text": [
      "20210910 182513\t-0.138127308154944\t4126\t1351\t10\t5\t8167500\n"
     ]
    },
    {
     "name": "stderr",
     "output_type": "stream",
     "text": [
      "[mbo] 69: cp=-0.138; minsplit=4126; minbucket=1351; maxdepth=10 : y = 8.17e+06 : 23.0 secs : infill_ei\n",
      "\n"
     ]
    },
    {
     "name": "stdout",
     "output_type": "stream",
     "text": [
      "20210910 182545\t-0.26104917297227\t1675\t833\t20\t5\t8543750\n"
     ]
    },
    {
     "name": "stderr",
     "output_type": "stream",
     "text": [
      "[mbo] 70: cp=-0.261; minsplit=1675; minbucket=833; maxdepth=20 : y = 8.54e+06 : 29.8 secs : infill_ei\n",
      "\n"
     ]
    },
    {
     "name": "stdout",
     "output_type": "stream",
     "text": [
      "20210910 182609\t-0.223652877943613\t4659\t436\t9\t5\t8446250\n"
     ]
    },
    {
     "name": "stderr",
     "output_type": "stream",
     "text": [
      "[mbo] 71: cp=-0.224; minsplit=4659; minbucket=436; maxdepth=9 : y = 8.45e+06 : 22.2 secs : infill_ei\n",
      "\n"
     ]
    },
    {
     "name": "stdout",
     "output_type": "stream",
     "text": [
      "20210910 182632\t-0.328644530025971\t6534\t329\t8\t5\t8483750\n"
     ]
    },
    {
     "name": "stderr",
     "output_type": "stream",
     "text": [
      "[mbo] 72: cp=-0.329; minsplit=6534; minbucket=329; maxdepth=8 : y = 8.48e+06 : 21.0 secs : infill_ei\n",
      "\n"
     ]
    },
    {
     "name": "stdout",
     "output_type": "stream",
     "text": [
      "20210910 182659\t-0.769509014527106\t1955\t634\t10\t5\t8558750\n"
     ]
    },
    {
     "name": "stderr",
     "output_type": "stream",
     "text": [
      "[mbo] 73: cp=-0.77; minsplit=1955; minbucket=634; maxdepth=10 : y = 8.56e+06 : 25.6 secs : infill_ei\n",
      "\n"
     ]
    },
    {
     "name": "stdout",
     "output_type": "stream",
     "text": [
      "20210910 182719\t-0.438573287539562\t8000\t351\t6\t5\t7873750\n"
     ]
    },
    {
     "name": "stderr",
     "output_type": "stream",
     "text": [
      "[mbo] 74: cp=-0.439; minsplit=8000; minbucket=351; maxdepth=6 : y = 7.87e+06 : 18.2 secs : infill_ei\n",
      "\n"
     ]
    },
    {
     "name": "stdout",
     "output_type": "stream",
     "text": [
      "20210910 182741\t-0.519075894362196\t5778\t1067\t7\t5\t8362500\n"
     ]
    },
    {
     "name": "stderr",
     "output_type": "stream",
     "text": [
      "[mbo] 75: cp=-0.519; minsplit=5778; minbucket=1067; maxdepth=7 : y = 8.36e+06 : 20.0 secs : infill_ei\n",
      "\n"
     ]
    },
    {
     "name": "stdout",
     "output_type": "stream",
     "text": [
      "20210910 182753\t-0.809200870983341\t7999\t463\t3\t5\t7873750\n"
     ]
    },
    {
     "name": "stderr",
     "output_type": "stream",
     "text": [
      "[mbo] 76: cp=-0.809; minsplit=7999; minbucket=463; maxdepth=3 : y = 7.87e+06 : 10.2 secs : infill_ei\n",
      "\n"
     ]
    },
    {
     "name": "stdout",
     "output_type": "stream",
     "text": [
      "20210910 182819\t-0.548897664418958\t3261\t1629\t20\t5\t8042500\n"
     ]
    },
    {
     "name": "stderr",
     "output_type": "stream",
     "text": [
      "[mbo] 77: cp=-0.549; minsplit=3261; minbucket=1629; maxdepth=20 : y = 8.04e+06 : 24.6 secs : infill_ei\n",
      "\n"
     ]
    },
    {
     "name": "stdout",
     "output_type": "stream",
     "text": [
      "20210910 182831\t-0.569138103544835\t4885\t1474\t3\t5\t7793750\n"
     ]
    },
    {
     "name": "stderr",
     "output_type": "stream",
     "text": [
      "[mbo] 78: cp=-0.569; minsplit=4885; minbucket=1474; maxdepth=3 : y = 7.79e+06 : 10.4 secs : infill_ei\n",
      "\n"
     ]
    },
    {
     "name": "stdout",
     "output_type": "stream",
     "text": [
      "20210910 182902\t-0.912818831848728\t3948\t189\t12\t5\t8217500\n"
     ]
    },
    {
     "name": "stderr",
     "output_type": "stream",
     "text": [
      "[mbo] 79: cp=-0.913; minsplit=3948; minbucket=189; maxdepth=12 : y = 8.22e+06 : 28.4 secs : infill_ei\n",
      "\n",
      "Saved the current state after iteration 80 in the file ./work/E1003_rpart.RDATA.\n",
      "\n"
     ]
    },
    {
     "name": "stdout",
     "output_type": "stream",
     "text": [
      "20210910 182930\t-0.638972295828522\t1855\t388\t10\t5\t8115000\n"
     ]
    },
    {
     "name": "stderr",
     "output_type": "stream",
     "text": [
      "[mbo] 80: cp=-0.639; minsplit=1855; minbucket=388; maxdepth=10 : y = 8.12e+06 : 26.2 secs : infill_ei\n",
      "\n"
     ]
    },
    {
     "name": "stdout",
     "output_type": "stream",
     "text": [
      "20210910 182958\t-0.712418878308246\t3463\t1729\t20\t5\t7962500\n"
     ]
    },
    {
     "name": "stderr",
     "output_type": "stream",
     "text": [
      "[mbo] 81: cp=-0.712; minsplit=3463; minbucket=1729; maxdepth=20 : y = 7.96e+06 : 25.9 secs : infill_ei\n",
      "\n"
     ]
    },
    {
     "name": "stdout",
     "output_type": "stream",
     "text": [
      "20210910 183023\t-0.946347437271817\t6550\t997\t11\t5\t8252500\n"
     ]
    },
    {
     "name": "stderr",
     "output_type": "stream",
     "text": [
      "[mbo] 82: cp=-0.946; minsplit=6550; minbucket=997; maxdepth=11 : y = 8.25e+06 : 23.9 secs : infill_ei\n",
      "\n"
     ]
    },
    {
     "name": "stdout",
     "output_type": "stream",
     "text": [
      "20210910 183048\t-0.687619035237405\t6081\t441\t9\t5\t8545000\n"
     ]
    },
    {
     "name": "stderr",
     "output_type": "stream",
     "text": [
      "[mbo] 83: cp=-0.688; minsplit=6081; minbucket=441; maxdepth=9 : y = 8.54e+06 : 22.7 secs : infill_ei\n",
      "\n"
     ]
    },
    {
     "name": "stdout",
     "output_type": "stream",
     "text": [
      "20210910 183115\t-0.341987310632395\t1023\t501\t9\t5\t7561250\n"
     ]
    },
    {
     "name": "stderr",
     "output_type": "stream",
     "text": [
      "[mbo] 84: cp=-0.342; minsplit=1023; minbucket=501; maxdepth=9 : y = 7.56e+06 : 24.9 secs : infill_ei\n",
      "\n"
     ]
    },
    {
     "name": "stdout",
     "output_type": "stream",
     "text": [
      "20210910 183132\t-0.420615345751967\t2918\t416\t5\t5\t8453750\n"
     ]
    },
    {
     "name": "stderr",
     "output_type": "stream",
     "text": [
      "[mbo] 85: cp=-0.421; minsplit=2918; minbucket=416; maxdepth=5 : y = 8.45e+06 : 15.1 secs : infill_ei\n",
      "\n"
     ]
    },
    {
     "name": "stdout",
     "output_type": "stream",
     "text": [
      "20210910 183148\t-0.290962276926055\t5804\t1\t5\t5\t8232500\n"
     ]
    },
    {
     "name": "stderr",
     "output_type": "stream",
     "text": [
      "[mbo] 86: cp=-0.291; minsplit=5804; minbucket=1; maxdepth=5 : y = 8.23e+06 : 15.0 secs : infill_ei\n",
      "\n"
     ]
    },
    {
     "name": "stdout",
     "output_type": "stream",
     "text": [
      "20210910 183220\t-0.766640116268595\t2459\t752\t15\t5\t8398750\n"
     ]
    },
    {
     "name": "stderr",
     "output_type": "stream",
     "text": [
      "[mbo] 87: cp=-0.767; minsplit=2459; minbucket=752; maxdepth=15 : y = 8.4e+06 : 29.7 secs : infill_ei\n",
      "\n"
     ]
    },
    {
     "name": "stdout",
     "output_type": "stream",
     "text": [
      "20210910 183234\t-0.888167060213037\t6309\t844\t4\t5\t8397500\n"
     ]
    },
    {
     "name": "stderr",
     "output_type": "stream",
     "text": [
      "[mbo] 88: cp=-0.888; minsplit=6309; minbucket=844; maxdepth=4 : y = 8.4e+06 : 12.8 secs : infill_ei\n",
      "\n"
     ]
    },
    {
     "name": "stdout",
     "output_type": "stream",
     "text": [
      "20210910 183305\t-0.41214019580328\t871\t434\t5\t5\t9092500\n"
     ]
    },
    {
     "name": "stderr",
     "output_type": "stream",
     "text": [
      "[mbo] 89: cp=-0.412; minsplit=871; minbucket=434; maxdepth=5 : y = 9.09e+06 : 28.3 secs : infill_ei\n",
      "\n"
     ]
    },
    {
     "name": "stdout",
     "output_type": "stream",
     "text": [
      "20210910 183338\t-0.207019346284097\t1597\t794\t13\t5\t9088750\n"
     ]
    },
    {
     "name": "stderr",
     "output_type": "stream",
     "text": [
      "[mbo] 90: cp=-0.207; minsplit=1597; minbucket=794; maxdepth=13 : y = 9.09e+06 : 31.0 secs : infill_ei\n",
      "\n"
     ]
    },
    {
     "name": "stdout",
     "output_type": "stream",
     "text": [
      "20210910 183355\t-0.189414096152995\t2360\t340\t5\t5\t8707500\n"
     ]
    },
    {
     "name": "stderr",
     "output_type": "stream",
     "text": [
      "[mbo] 91: cp=-0.189; minsplit=2360; minbucket=340; maxdepth=5 : y = 8.71e+06 : 15.2 secs : infill_ei\n",
      "\n"
     ]
    },
    {
     "name": "stdout",
     "output_type": "stream",
     "text": [
      "20210910 183425\t-0.161695782395652\t2125\t655\t12\t5\t8821250\n"
     ]
    },
    {
     "name": "stderr",
     "output_type": "stream",
     "text": [
      "[mbo] 92: cp=-0.162; minsplit=2125; minbucket=655; maxdepth=12 : y = 8.82e+06 : 28.0 secs : infill_ei\n",
      "\n"
     ]
    },
    {
     "name": "stdout",
     "output_type": "stream",
     "text": [
      "20210910 183455\t-0.428657003504566\t6192\t1002\t20\t5\t8486250\n"
     ]
    },
    {
     "name": "stderr",
     "output_type": "stream",
     "text": [
      "[mbo] 93: cp=-0.429; minsplit=6192; minbucket=1002; maxdepth=20 : y = 8.49e+06 : 28.2 secs : infill_ei\n",
      "\n"
     ]
    },
    {
     "name": "stdout",
     "output_type": "stream",
     "text": [
      "20210910 183521\t-0.46192498529279\t6738\t699\t11\t5\t8397500\n"
     ]
    },
    {
     "name": "stderr",
     "output_type": "stream",
     "text": [
      "[mbo] 94: cp=-0.462; minsplit=6738; minbucket=699; maxdepth=11 : y = 8.4e+06 : 24.3 secs : infill_ei\n",
      "\n"
     ]
    },
    {
     "name": "stdout",
     "output_type": "stream",
     "text": [
      "20210910 183541\t-0.229787356918309\t2302\t878\t6\t5\t8273750\n"
     ]
    },
    {
     "name": "stderr",
     "output_type": "stream",
     "text": [
      "[mbo] 95: cp=-0.23; minsplit=2302; minbucket=878; maxdepth=6 : y = 8.27e+06 : 17.7 secs : infill_ei\n",
      "\n"
     ]
    },
    {
     "name": "stdout",
     "output_type": "stream",
     "text": [
      "20210910 183558\t-0.391211067340377\t1473\t6\t5\t5\t8842500\n"
     ]
    },
    {
     "name": "stderr",
     "output_type": "stream",
     "text": [
      "[mbo] 96: cp=-0.391; minsplit=1473; minbucket=6; maxdepth=5 : y = 8.84e+06 : 15.3 secs : infill_ei\n",
      "\n"
     ]
    },
    {
     "name": "stdout",
     "output_type": "stream",
     "text": [
      "20210910 183617\t-0.149724543622642\t3640\t3\t6\t5\t8322500\n"
     ]
    },
    {
     "name": "stderr",
     "output_type": "stream",
     "text": [
      "[mbo] 97: cp=-0.15; minsplit=3640; minbucket=3; maxdepth=6 : y = 8.32e+06 : 17.3 secs : infill_ei\n",
      "\n"
     ]
    },
    {
     "name": "stdout",
     "output_type": "stream",
     "text": [
      "20210910 183634\t-0.472946519355041\t4144\t323\t5\t5\t8333750\n"
     ]
    },
    {
     "name": "stderr",
     "output_type": "stream",
     "text": [
      "[mbo] 98: cp=-0.473; minsplit=4144; minbucket=323; maxdepth=5 : y = 8.33e+06 : 15.2 secs : infill_ei\n",
      "\n"
     ]
    },
    {
     "name": "stdout",
     "output_type": "stream",
     "text": [
      "20210910 183649\t-0.401978338378248\t325\t161\t4\t5\t8032500\n"
     ]
    },
    {
     "name": "stderr",
     "output_type": "stream",
     "text": [
      "[mbo] 99: cp=-0.402; minsplit=325; minbucket=161; maxdepth=4 : y = 8.03e+06 : 12.7 secs : infill_ei\n",
      "\n"
     ]
    },
    {
     "name": "stdout",
     "output_type": "stream",
     "text": [
      "20210910 183719\t-0.145411041239008\t1619\t341\t5\t5\t9137500\n"
     ]
    },
    {
     "name": "stderr",
     "output_type": "stream",
     "text": [
      "[mbo] 100: cp=-0.145; minsplit=1619; minbucket=341; maxdepth=5 : y = 9.14e+06 : 28.1 secs : infill_ei\n",
      "\n"
     ]
    },
    {
     "name": "stdout",
     "output_type": "stream",
     "text": [
      "20210910 183748\t-0.409818033392209\t1504\t708\t5\t5\t9328750\n"
     ]
    },
    {
     "name": "stderr",
     "output_type": "stream",
     "text": [
      "[mbo] 101: cp=-0.41; minsplit=1504; minbucket=708; maxdepth=5 : y = 9.33e+06 : 27.0 secs : infill_ei\n",
      "\n"
     ]
    },
    {
     "name": "stdout",
     "output_type": "stream",
     "text": [
      "20210910 183813\t-0.518935277246458\t7999\t1682\t20\t5\t7592500\n"
     ]
    },
    {
     "name": "stderr",
     "output_type": "stream",
     "text": [
      "[mbo] 102: cp=-0.519; minsplit=7999; minbucket=1682; maxdepth=20 : y = 7.59e+06 : 23.2 secs : infill_ei\n",
      "\n"
     ]
    },
    {
     "name": "stdout",
     "output_type": "stream",
     "text": [
      "20210910 183839\t-0.948732206352452\t5341\t1999\t20\t5\t7838750\n"
     ]
    },
    {
     "name": "stderr",
     "output_type": "stream",
     "text": [
      "[mbo] 103: cp=-0.949; minsplit=5341; minbucket=1999; maxdepth=20 : y = 7.84e+06 : 24.2 secs : infill_ei\n",
      "\n"
     ]
    },
    {
     "name": "stdout",
     "output_type": "stream",
     "text": [
      "20210910 183910\t-0.998707894052951\t1689\t844\t12\t5\t8556250\n"
     ]
    },
    {
     "name": "stderr",
     "output_type": "stream",
     "text": [
      "[mbo] 104: cp=-0.999; minsplit=1689; minbucket=844; maxdepth=12 : y = 8.56e+06 : 28.5 secs : infill_ei\n",
      "\n",
      "Saved the current state after iteration 105 in the file ./work/E1003_rpart.RDATA.\n",
      "\n"
     ]
    },
    {
     "name": "stdout",
     "output_type": "stream",
     "text": [
      "20210910 183936\t-0.412451345245171\t5920\t37\t9\t5\t7803750\n"
     ]
    },
    {
     "name": "stderr",
     "output_type": "stream",
     "text": [
      "[mbo] 105: cp=-0.412; minsplit=5920; minbucket=37; maxdepth=9 : y = 7.8e+06 : 24.6 secs : infill_ei\n",
      "\n"
     ]
    },
    {
     "name": "stdout",
     "output_type": "stream",
     "text": [
      "20210910 183949\t-0.288271949376951\t8000\t460\t3\t5\t7873750\n"
     ]
    },
    {
     "name": "stderr",
     "output_type": "stream",
     "text": [
      "[mbo] 106: cp=-0.288; minsplit=8000; minbucket=460; maxdepth=3 : y = 7.87e+06 : 11.2 secs : infill_ei\n",
      "\n"
     ]
    },
    {
     "name": "stdout",
     "output_type": "stream",
     "text": [
      "20210910 184015\t-0.668089163700032\t6513\t1464\t15\t5\t7783750\n"
     ]
    },
    {
     "name": "stderr",
     "output_type": "stream",
     "text": [
      "[mbo] 107: cp=-0.668; minsplit=6513; minbucket=1464; maxdepth=15 : y = 7.78e+06 : 24.3 secs : infill_ei\n",
      "\n"
     ]
    },
    {
     "name": "stdout",
     "output_type": "stream",
     "text": [
      "20210910 184047\t-0.297559677655816\t7844\t213\t12\t5\t7791250\n"
     ]
    },
    {
     "name": "stderr",
     "output_type": "stream",
     "text": [
      "[mbo] 108: cp=-0.298; minsplit=7844; minbucket=213; maxdepth=12 : y = 7.79e+06 : 29.5 secs : infill_ei\n",
      "\n"
     ]
    },
    {
     "name": "stdout",
     "output_type": "stream",
     "text": [
      "20210910 184107\t-0.956404284669132\t4693\t635\t6\t5\t8360000\n"
     ]
    },
    {
     "name": "stderr",
     "output_type": "stream",
     "text": [
      "[mbo] 109: cp=-0.956; minsplit=4693; minbucket=635; maxdepth=6 : y = 8.36e+06 : 18.4 secs : infill_ei\n",
      "\n"
     ]
    },
    {
     "name": "stdout",
     "output_type": "stream",
     "text": [
      "20210910 184136\t-0.410181161880271\t2500\t1247\t19\t5\t7925000\n"
     ]
    },
    {
     "name": "stderr",
     "output_type": "stream",
     "text": [
      "[mbo] 110: cp=-0.41; minsplit=2500; minbucket=1247; maxdepth=19 : y = 7.92e+06 : 27.6 secs : infill_ei\n",
      "\n"
     ]
    },
    {
     "name": "stdout",
     "output_type": "stream",
     "text": [
      "20210910 184154\t-0.434087152447853\t1471\t715\t5\t5\t9328750\n"
     ]
    },
    {
     "name": "stderr",
     "output_type": "stream",
     "text": [
      "[mbo] 111: cp=-0.434; minsplit=1471; minbucket=715; maxdepth=5 : y = 9.33e+06 : 15.4 secs : infill_ei\n",
      "\n"
     ]
    },
    {
     "name": "stdout",
     "output_type": "stream",
     "text": [
      "20210910 184222\t-0.506159315403184\t4763\t1374\t13\t5\t8175000\n"
     ]
    },
    {
     "name": "stderr",
     "output_type": "stream",
     "text": [
      "[mbo] 112: cp=-0.506; minsplit=4763; minbucket=1374; maxdepth=13 : y = 8.18e+06 : 26.5 secs : infill_ei\n",
      "\n"
     ]
    },
    {
     "name": "stdout",
     "output_type": "stream",
     "text": [
      "20210910 184253\t-0.319632155203073\t6417\t775\t16\t5\t8397500\n"
     ]
    },
    {
     "name": "stderr",
     "output_type": "stream",
     "text": [
      "[mbo] 113: cp=-0.32; minsplit=6417; minbucket=775; maxdepth=16 : y = 8.4e+06 : 29.3 secs : infill_ei\n",
      "\n"
     ]
    },
    {
     "name": "stdout",
     "output_type": "stream",
     "text": [
      "20210910 184313\t-0.728473781008011\t7007\t832\t6\t5\t8350000\n"
     ]
    },
    {
     "name": "stderr",
     "output_type": "stream",
     "text": [
      "[mbo] 114: cp=-0.728; minsplit=7007; minbucket=832; maxdepth=6 : y = 8.35e+06 : 17.4 secs : infill_ei\n",
      "\n"
     ]
    },
    {
     "name": "stdout",
     "output_type": "stream",
     "text": [
      "20210910 184332\t-0.145226826034972\t1771\t1\t6\t5\t8965000\n"
     ]
    },
    {
     "name": "stderr",
     "output_type": "stream",
     "text": [
      "[mbo] 115: cp=-0.145; minsplit=1771; minbucket=1; maxdepth=6 : y = 8.96e+06 : 17.0 secs : infill_ei\n",
      "\n"
     ]
    },
    {
     "name": "stdout",
     "output_type": "stream",
     "text": [
      "20210910 184402\t-0.973957440799843\t3058\t1171\t14\t5\t8515000\n"
     ]
    },
    {
     "name": "stderr",
     "output_type": "stream",
     "text": [
      "[mbo] 116: cp=-0.974; minsplit=3058; minbucket=1171; maxdepth=14 : y = 8.52e+06 : 27.8 secs : infill_ei\n",
      "\n"
     ]
    },
    {
     "name": "stdout",
     "output_type": "stream",
     "text": [
      "20210910 184433\t-0.621543151807754\t1678\t838\t20\t5\t8498750\n"
     ]
    },
    {
     "name": "stderr",
     "output_type": "stream",
     "text": [
      "[mbo] 117: cp=-0.622; minsplit=1678; minbucket=838; maxdepth=20 : y = 8.5e+06 : 29.5 secs : infill_ei\n",
      "\n"
     ]
    },
    {
     "name": "stdout",
     "output_type": "stream",
     "text": [
      "20210910 184452\t-0.426590479298056\t1546\t763\t5\t5\t9315000\n"
     ]
    },
    {
     "name": "stderr",
     "output_type": "stream",
     "text": [
      "[mbo] 118: cp=-0.427; minsplit=1546; minbucket=763; maxdepth=5 : y = 9.32e+06 : 16.3 secs : infill_ei\n",
      "\n"
     ]
    },
    {
     "name": "stdout",
     "output_type": "stream",
     "text": [
      "20210910 184526\t-0.94593205743734\t4901\t414\t20\t5\t8431250\n"
     ]
    },
    {
     "name": "stderr",
     "output_type": "stream",
     "text": [
      "[mbo] 119: cp=-0.946; minsplit=4901; minbucket=414; maxdepth=20 : y = 8.43e+06 : 31.8 secs : infill_ei\n",
      "\n"
     ]
    },
    {
     "name": "stdout",
     "output_type": "stream",
     "text": [
      "20210910 184557\t-0.873341919242422\t8000\t615\t14\t5\t7873750\n"
     ]
    },
    {
     "name": "stderr",
     "output_type": "stream",
     "text": [
      "[mbo] 120: cp=-0.873; minsplit=8000; minbucket=615; maxdepth=14 : y = 7.87e+06 : 28.9 secs : infill_ei\n",
      "\n"
     ]
    },
    {
     "name": "stdout",
     "output_type": "stream",
     "text": [
      "20210910 184614\t-0.419121107811714\t1485\t547\t5\t5\t9252500\n"
     ]
    },
    {
     "name": "stderr",
     "output_type": "stream",
     "text": [
      "[mbo] 121: cp=-0.419; minsplit=1485; minbucket=547; maxdepth=5 : y = 9.25e+06 : 15.1 secs : infill_ei\n",
      "\n"
     ]
    },
    {
     "name": "stdout",
     "output_type": "stream",
     "text": [
      "20210910 184627\t-0.998548466085929\t15\t5\t3\t5\t7763750\n"
     ]
    },
    {
     "name": "stderr",
     "output_type": "stream",
     "text": [
      "[mbo] 122: cp=-0.999; minsplit=15; minbucket=5; maxdepth=3 : y = 7.76e+06 : 11.0 secs : infill_ei\n",
      "\n"
     ]
    },
    {
     "name": "stdout",
     "output_type": "stream",
     "text": [
      "20210910 184702\t-0.799849046273772\t871\t427\t13\t5\t6796250\n"
     ]
    },
    {
     "name": "stderr",
     "output_type": "stream",
     "text": [
      "[mbo] 123: cp=-0.8; minsplit=871; minbucket=427; maxdepth=13 : y = 6.8e+06 : 32.6 secs : infill_ei\n",
      "\n"
     ]
    },
    {
     "name": "stdout",
     "output_type": "stream",
     "text": [
      "20210910 184720\t-0.682900576651488\t1617\t793\t5\t5\t9223750\n"
     ]
    },
    {
     "name": "stderr",
     "output_type": "stream",
     "text": [
      "[mbo] 124: cp=-0.683; minsplit=1617; minbucket=793; maxdepth=5 : y = 9.22e+06 : 16.0 secs : infill_ei\n",
      "\n"
     ]
    },
    {
     "name": "stdout",
     "output_type": "stream",
     "text": [
      "20210910 184738\t-0.721096978207366\t1689\t843\t5\t5\t8790000\n"
     ]
    },
    {
     "name": "stderr",
     "output_type": "stream",
     "text": [
      "[mbo] 125: cp=-0.721; minsplit=1689; minbucket=843; maxdepth=5 : y = 8.79e+06 : 15.6 secs : infill_ei\n",
      "\n"
     ]
    },
    {
     "name": "stdout",
     "output_type": "stream",
     "text": [
      "20210910 184756\t-0.647273119990605\t1530\t755\t5\t5\t9321250\n"
     ]
    },
    {
     "name": "stderr",
     "output_type": "stream",
     "text": [
      "[mbo] 126: cp=-0.647; minsplit=1530; minbucket=755; maxdepth=5 : y = 9.32e+06 : 15.4 secs : infill_ei\n",
      "\n"
     ]
    }
   ],
   "source": [
    "#inicio la optimizacion bayesiana\n",
    "if(!file.exists(kbayesiana)) {\n",
    "  run  <- mbo(obj.fun, learner = surr.km, control = ctrl)\n",
    "} else  run  <- mboContinue( kbayesiana )   #retomo en caso que ya exista"
   ]
  },
  {
   "cell_type": "code",
   "execution_count": null,
   "id": "fd592624",
   "metadata": {},
   "outputs": [],
   "source": [
    "quit( save=\"no\" )"
   ]
  },
  {
   "cell_type": "code",
   "execution_count": null,
   "id": "5b559bf4",
   "metadata": {},
   "outputs": [],
   "source": []
  }
 ],
 "metadata": {
  "kernelspec": {
   "display_name": "R",
   "language": "R",
   "name": "ir"
  },
  "language_info": {
   "codemirror_mode": "r",
   "file_extension": ".r",
   "mimetype": "text/x-r-source",
   "name": "R",
   "pygments_lexer": "r",
   "version": "3.6.1"
  }
 },
 "nbformat": 4,
 "nbformat_minor": 5
}
